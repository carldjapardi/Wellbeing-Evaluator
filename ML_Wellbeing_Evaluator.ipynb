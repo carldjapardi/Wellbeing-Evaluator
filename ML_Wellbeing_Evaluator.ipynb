{
  "nbformat": 4,
  "nbformat_minor": 0,
  "metadata": {
    "colab": {
      "provenance": []
    },
    "kernelspec": {
      "display_name": "Python 3",
      "name": "python3"
    },
    "language_info": {
      "name": "python"
    },
    "widgets": {
      "application/vnd.jupyter.widget-state+json": {
        "28377800f87345d3b76d29bd32fa71a6": {
          "model_module": "@jupyter-widgets/controls",
          "model_name": "IntSliderModel",
          "model_module_version": "1.5.0",
          "state": {
            "_view_name": "IntSliderView",
            "style": "IPY_MODEL_ab674419244442b6bcb59a6329764523",
            "_dom_classes": [],
            "description": "Daily intake of fruits or veggies:",
            "step": 1,
            "_model_name": "IntSliderModel",
            "orientation": "horizontal",
            "max": 10,
            "_view_module": "@jupyter-widgets/controls",
            "_model_module_version": "1.5.0",
            "value": 5,
            "_view_count": null,
            "disabled": false,
            "_view_module_version": "1.5.0",
            "min": 0,
            "continuous_update": true,
            "readout_format": "d",
            "description_tooltip": null,
            "readout": true,
            "_model_module": "@jupyter-widgets/controls",
            "layout": "IPY_MODEL_8369e901344e47329d6835d1b2b90a5a"
          }
        },
        "ab674419244442b6bcb59a6329764523": {
          "model_module": "@jupyter-widgets/controls",
          "model_name": "SliderStyleModel",
          "model_module_version": "1.5.0",
          "state": {
            "_view_name": "StyleView",
            "handle_color": null,
            "_model_name": "SliderStyleModel",
            "description_width": "initial",
            "_view_module": "@jupyter-widgets/base",
            "_model_module_version": "1.5.0",
            "_view_count": null,
            "_view_module_version": "1.2.0",
            "_model_module": "@jupyter-widgets/controls"
          }
        },
        "8369e901344e47329d6835d1b2b90a5a": {
          "model_module": "@jupyter-widgets/base",
          "model_name": "LayoutModel",
          "model_module_version": "1.2.0",
          "state": {
            "_view_name": "LayoutView",
            "grid_template_rows": null,
            "right": null,
            "justify_content": null,
            "_view_module": "@jupyter-widgets/base",
            "overflow": null,
            "_model_module_version": "1.2.0",
            "_view_count": null,
            "flex_flow": null,
            "width": "500px",
            "min_width": null,
            "border": null,
            "align_items": null,
            "bottom": null,
            "_model_module": "@jupyter-widgets/base",
            "top": null,
            "grid_column": null,
            "overflow_y": null,
            "overflow_x": null,
            "grid_auto_flow": null,
            "grid_area": null,
            "grid_template_columns": null,
            "flex": null,
            "_model_name": "LayoutModel",
            "justify_items": null,
            "grid_row": null,
            "max_height": null,
            "align_content": null,
            "visibility": null,
            "align_self": null,
            "height": null,
            "min_height": null,
            "padding": null,
            "grid_auto_rows": null,
            "grid_gap": null,
            "max_width": null,
            "order": null,
            "_view_module_version": "1.2.0",
            "grid_template_areas": null,
            "object_position": null,
            "object_fit": null,
            "grid_auto_columns": null,
            "margin": null,
            "display": null,
            "left": null
          }
        },
        "e979ab35a7c34557817111160938b8f0": {
          "model_module": "@jupyter-widgets/controls",
          "model_name": "IntSliderModel",
          "model_module_version": "1.5.0",
          "state": {
            "_view_name": "IntSliderView",
            "style": "IPY_MODEL_8b3a4ba9f2264fcf9dd919ff8c1aab32",
            "_dom_classes": [],
            "description": "Relative daily stress:",
            "step": 1,
            "_model_name": "IntSliderModel",
            "orientation": "horizontal",
            "max": 10,
            "_view_module": "@jupyter-widgets/controls",
            "_model_module_version": "1.5.0",
            "value": 5,
            "_view_count": null,
            "disabled": false,
            "_view_module_version": "1.5.0",
            "min": 0,
            "continuous_update": true,
            "readout_format": "d",
            "description_tooltip": null,
            "readout": true,
            "_model_module": "@jupyter-widgets/controls",
            "layout": "IPY_MODEL_8369e901344e47329d6835d1b2b90a5a"
          }
        },
        "8b3a4ba9f2264fcf9dd919ff8c1aab32": {
          "model_module": "@jupyter-widgets/controls",
          "model_name": "SliderStyleModel",
          "model_module_version": "1.5.0",
          "state": {
            "_view_name": "StyleView",
            "handle_color": null,
            "_model_name": "SliderStyleModel",
            "description_width": "initial",
            "_view_module": "@jupyter-widgets/base",
            "_model_module_version": "1.5.0",
            "_view_count": null,
            "_view_module_version": "1.2.0",
            "_model_module": "@jupyter-widgets/controls"
          }
        },
        "01d085ca4b98406897f7cc5e77f956f0": {
          "model_module": "@jupyter-widgets/controls",
          "model_name": "IntSliderModel",
          "model_module_version": "1.5.0",
          "state": {
            "_view_name": "IntSliderView",
            "style": "IPY_MODEL_53fcfccf43454f108262b2384d4301c2",
            "_dom_classes": [],
            "description": "Number of new places visited:",
            "step": 1,
            "_model_name": "IntSliderModel",
            "orientation": "horizontal",
            "max": 10,
            "_view_module": "@jupyter-widgets/controls",
            "_model_module_version": "1.5.0",
            "value": 5,
            "_view_count": null,
            "disabled": false,
            "_view_module_version": "1.5.0",
            "min": 0,
            "continuous_update": true,
            "readout_format": "d",
            "description_tooltip": null,
            "readout": true,
            "_model_module": "@jupyter-widgets/controls",
            "layout": "IPY_MODEL_8369e901344e47329d6835d1b2b90a5a"
          }
        },
        "53fcfccf43454f108262b2384d4301c2": {
          "model_module": "@jupyter-widgets/controls",
          "model_name": "SliderStyleModel",
          "model_module_version": "1.5.0",
          "state": {
            "_view_name": "StyleView",
            "handle_color": null,
            "_model_name": "SliderStyleModel",
            "description_width": "initial",
            "_view_module": "@jupyter-widgets/base",
            "_model_module_version": "1.5.0",
            "_view_count": null,
            "_view_module_version": "1.2.0",
            "_model_module": "@jupyter-widgets/controls"
          }
        },
        "608ab55a55434de8a7bbc5a7513ee03a": {
          "model_module": "@jupyter-widgets/controls",
          "model_name": "IntSliderModel",
          "model_module_version": "1.5.0",
          "state": {
            "_view_name": "IntSliderView",
            "style": "IPY_MODEL_b25e4e86bfb94d7aacbde0f2ff179ad0",
            "_dom_classes": [],
            "description": "Number of close friends:",
            "step": 1,
            "_model_name": "IntSliderModel",
            "orientation": "horizontal",
            "max": 10,
            "_view_module": "@jupyter-widgets/controls",
            "_model_module_version": "1.5.0",
            "value": 5,
            "_view_count": null,
            "disabled": false,
            "_view_module_version": "1.5.0",
            "min": 0,
            "continuous_update": true,
            "readout_format": "d",
            "description_tooltip": null,
            "readout": true,
            "_model_module": "@jupyter-widgets/controls",
            "layout": "IPY_MODEL_8369e901344e47329d6835d1b2b90a5a"
          }
        },
        "b25e4e86bfb94d7aacbde0f2ff179ad0": {
          "model_module": "@jupyter-widgets/controls",
          "model_name": "SliderStyleModel",
          "model_module_version": "1.5.0",
          "state": {
            "_view_name": "StyleView",
            "handle_color": null,
            "_model_name": "SliderStyleModel",
            "description_width": "initial",
            "_view_module": "@jupyter-widgets/base",
            "_model_module_version": "1.5.0",
            "_view_count": null,
            "_view_module_version": "1.2.0",
            "_model_module": "@jupyter-widgets/controls"
          }
        },
        "a9e69999bbd74856ac118990c3a9f29d": {
          "model_module": "@jupyter-widgets/controls",
          "model_name": "IntSliderModel",
          "model_module_version": "1.5.0",
          "state": {
            "_view_name": "IntSliderView",
            "style": "IPY_MODEL_397abd1c854e4e0f8f46bff8507e57cc",
            "_dom_classes": [],
            "description": "How many people do you help achieve a better life:",
            "step": 1,
            "_model_name": "IntSliderModel",
            "orientation": "horizontal",
            "max": 10,
            "_view_module": "@jupyter-widgets/controls",
            "_model_module_version": "1.5.0",
            "value": 8,
            "_view_count": null,
            "disabled": false,
            "_view_module_version": "1.5.0",
            "min": 0,
            "continuous_update": true,
            "readout_format": "d",
            "description_tooltip": null,
            "readout": true,
            "_model_module": "@jupyter-widgets/controls",
            "layout": "IPY_MODEL_8369e901344e47329d6835d1b2b90a5a"
          }
        },
        "397abd1c854e4e0f8f46bff8507e57cc": {
          "model_module": "@jupyter-widgets/controls",
          "model_name": "SliderStyleModel",
          "model_module_version": "1.5.0",
          "state": {
            "_view_name": "StyleView",
            "handle_color": null,
            "_model_name": "SliderStyleModel",
            "description_width": "initial",
            "_view_module": "@jupyter-widgets/base",
            "_model_module_version": "1.5.0",
            "_view_count": null,
            "_view_module_version": "1.2.0",
            "_model_module": "@jupyter-widgets/controls"
          }
        },
        "e9d935d944884ffcbc953471f5745ca0": {
          "model_module": "@jupyter-widgets/controls",
          "model_name": "IntSliderModel",
          "model_module_version": "1.5.0",
          "state": {
            "_view_name": "IntSliderView",
            "style": "IPY_MODEL_afec76b08b304f0abe84f540167c188c",
            "_dom_classes": [],
            "description": "How many people do you interact with daily:",
            "step": 1,
            "_model_name": "IntSliderModel",
            "orientation": "horizontal",
            "max": 10,
            "_view_module": "@jupyter-widgets/controls",
            "_model_module_version": "1.5.0",
            "value": 5,
            "_view_count": null,
            "disabled": false,
            "_view_module_version": "1.5.0",
            "min": 0,
            "continuous_update": true,
            "readout_format": "d",
            "description_tooltip": null,
            "readout": true,
            "_model_module": "@jupyter-widgets/controls",
            "layout": "IPY_MODEL_8369e901344e47329d6835d1b2b90a5a"
          }
        },
        "afec76b08b304f0abe84f540167c188c": {
          "model_module": "@jupyter-widgets/controls",
          "model_name": "SliderStyleModel",
          "model_module_version": "1.5.0",
          "state": {
            "_view_name": "StyleView",
            "handle_color": null,
            "_model_name": "SliderStyleModel",
            "description_width": "initial",
            "_view_module": "@jupyter-widgets/base",
            "_model_module_version": "1.5.0",
            "_view_count": null,
            "_view_module_version": "1.2.0",
            "_model_module": "@jupyter-widgets/controls"
          }
        },
        "ff173ff17e8748c9bfe4192d2615c98c": {
          "model_module": "@jupyter-widgets/controls",
          "model_name": "IntSliderModel",
          "model_module_version": "1.5.0",
          "state": {
            "_view_name": "IntSliderView",
            "style": "IPY_MODEL_8defe13d05264f68b1c8132678ebd6bd",
            "_dom_classes": [],
            "description": "Number of proud achievement:",
            "step": 1,
            "_model_name": "IntSliderModel",
            "orientation": "horizontal",
            "max": 10,
            "_view_module": "@jupyter-widgets/controls",
            "_model_module_version": "1.5.0",
            "value": 5,
            "_view_count": null,
            "disabled": false,
            "_view_module_version": "1.5.0",
            "min": 0,
            "continuous_update": true,
            "readout_format": "d",
            "description_tooltip": null,
            "readout": true,
            "_model_module": "@jupyter-widgets/controls",
            "layout": "IPY_MODEL_8369e901344e47329d6835d1b2b90a5a"
          }
        },
        "8defe13d05264f68b1c8132678ebd6bd": {
          "model_module": "@jupyter-widgets/controls",
          "model_name": "SliderStyleModel",
          "model_module_version": "1.5.0",
          "state": {
            "_view_name": "StyleView",
            "handle_color": null,
            "_model_name": "SliderStyleModel",
            "description_width": "initial",
            "_view_module": "@jupyter-widgets/base",
            "_model_module_version": "1.5.0",
            "_view_count": null,
            "_view_module_version": "1.2.0",
            "_model_module": "@jupyter-widgets/controls"
          }
        },
        "54d1f620d37945a98eff2a23f555784d": {
          "model_module": "@jupyter-widgets/controls",
          "model_name": "IntSliderModel",
          "model_module_version": "1.5.0",
          "state": {
            "_view_name": "IntSliderView",
            "style": "IPY_MODEL_9d477c87cac847eda27338b000271a89",
            "_dom_classes": [],
            "description": "How many times do you donate to charity:",
            "step": 1,
            "_model_name": "IntSliderModel",
            "orientation": "horizontal",
            "max": 10,
            "_view_module": "@jupyter-widgets/controls",
            "_model_module_version": "1.5.0",
            "value": 5,
            "_view_count": null,
            "disabled": false,
            "_view_module_version": "1.5.0",
            "min": 0,
            "continuous_update": true,
            "readout_format": "d",
            "description_tooltip": null,
            "readout": true,
            "_model_module": "@jupyter-widgets/controls",
            "layout": "IPY_MODEL_8369e901344e47329d6835d1b2b90a5a"
          }
        },
        "9d477c87cac847eda27338b000271a89": {
          "model_module": "@jupyter-widgets/controls",
          "model_name": "SliderStyleModel",
          "model_module_version": "1.5.0",
          "state": {
            "_view_name": "StyleView",
            "handle_color": null,
            "_model_name": "SliderStyleModel",
            "description_width": "initial",
            "_view_module": "@jupyter-widgets/base",
            "_model_module_version": "1.5.0",
            "_view_count": null,
            "_view_module_version": "1.2.0",
            "_model_module": "@jupyter-widgets/controls"
          }
        },
        "004eb5e1c7a44de79401b6f568ee5cc0": {
          "model_module": "@jupyter-widgets/controls",
          "model_name": "IntSliderModel",
          "model_module_version": "1.5.0",
          "state": {
            "_view_name": "IntSliderView",
            "style": "IPY_MODEL_3f8978bd8ddd4f22ab7d4d047f16ee9e",
            "_dom_classes": [],
            "description": "Are you fit (1) or not fit (2):",
            "step": 1,
            "_model_name": "IntSliderModel",
            "orientation": "horizontal",
            "max": 2,
            "_view_module": "@jupyter-widgets/controls",
            "_model_module_version": "1.5.0",
            "value": 1,
            "_view_count": null,
            "disabled": false,
            "_view_module_version": "1.5.0",
            "min": 1,
            "continuous_update": true,
            "readout_format": "d",
            "description_tooltip": null,
            "readout": true,
            "_model_module": "@jupyter-widgets/controls",
            "layout": "IPY_MODEL_8369e901344e47329d6835d1b2b90a5a"
          }
        },
        "3f8978bd8ddd4f22ab7d4d047f16ee9e": {
          "model_module": "@jupyter-widgets/controls",
          "model_name": "SliderStyleModel",
          "model_module_version": "1.5.0",
          "state": {
            "_view_name": "StyleView",
            "handle_color": null,
            "_model_name": "SliderStyleModel",
            "description_width": "initial",
            "_view_module": "@jupyter-widgets/base",
            "_model_module_version": "1.5.0",
            "_view_count": null,
            "_view_module_version": "1.2.0",
            "_model_module": "@jupyter-widgets/controls"
          }
        },
        "cfb2b8ec7d714950a49a9793b2e7fc9c": {
          "model_module": "@jupyter-widgets/controls",
          "model_name": "IntSliderModel",
          "model_module_version": "1.5.0",
          "state": {
            "_view_name": "IntSliderView",
            "style": "IPY_MODEL_fd52b954b9da45c5967e554f84ca6f7f",
            "_dom_classes": [],
            "description": "How many TODOs have you completed:",
            "step": 1,
            "_model_name": "IntSliderModel",
            "orientation": "horizontal",
            "max": 10,
            "_view_module": "@jupyter-widgets/controls",
            "_model_module_version": "1.5.0",
            "value": 5,
            "_view_count": null,
            "disabled": false,
            "_view_module_version": "1.5.0",
            "min": 0,
            "continuous_update": true,
            "readout_format": "d",
            "description_tooltip": null,
            "readout": true,
            "_model_module": "@jupyter-widgets/controls",
            "layout": "IPY_MODEL_8369e901344e47329d6835d1b2b90a5a"
          }
        },
        "fd52b954b9da45c5967e554f84ca6f7f": {
          "model_module": "@jupyter-widgets/controls",
          "model_name": "SliderStyleModel",
          "model_module_version": "1.5.0",
          "state": {
            "_view_name": "StyleView",
            "handle_color": null,
            "_model_name": "SliderStyleModel",
            "description_width": "initial",
            "_view_module": "@jupyter-widgets/base",
            "_model_module_version": "1.5.0",
            "_view_count": null,
            "_view_module_version": "1.2.0",
            "_model_module": "@jupyter-widgets/controls"
          }
        },
        "d96b2a4de6104d1cb03d590553160fef": {
          "model_module": "@jupyter-widgets/controls",
          "model_name": "IntSliderModel",
          "model_module_version": "1.5.0",
          "state": {
            "_view_name": "IntSliderView",
            "style": "IPY_MODEL_0e41bef4628d4950b398d84ac08d18ca",
            "_dom_classes": [],
            "description": "How good is your flow of life:",
            "step": 1,
            "_model_name": "IntSliderModel",
            "orientation": "horizontal",
            "max": 10,
            "_view_module": "@jupyter-widgets/controls",
            "_model_module_version": "1.5.0",
            "value": 5,
            "_view_count": null,
            "disabled": false,
            "_view_module_version": "1.5.0",
            "min": 0,
            "continuous_update": true,
            "readout_format": "d",
            "description_tooltip": null,
            "readout": true,
            "_model_module": "@jupyter-widgets/controls",
            "layout": "IPY_MODEL_8369e901344e47329d6835d1b2b90a5a"
          }
        },
        "0e41bef4628d4950b398d84ac08d18ca": {
          "model_module": "@jupyter-widgets/controls",
          "model_name": "SliderStyleModel",
          "model_module_version": "1.5.0",
          "state": {
            "_view_name": "StyleView",
            "handle_color": null,
            "_model_name": "SliderStyleModel",
            "description_width": "initial",
            "_view_module": "@jupyter-widgets/base",
            "_model_module_version": "1.5.0",
            "_view_count": null,
            "_view_module_version": "1.2.0",
            "_model_module": "@jupyter-widgets/controls"
          }
        },
        "7604da90157f44edaf35f6d630071352": {
          "model_module": "@jupyter-widgets/controls",
          "model_name": "IntSliderModel",
          "model_module_version": "1.5.0",
          "state": {
            "_view_name": "IntSliderView",
            "style": "IPY_MODEL_ce3db07708bf4b1a89b9a601bad3ab95",
            "_dom_classes": [],
            "description": "Amount of steps taken daily:",
            "step": 1,
            "_model_name": "IntSliderModel",
            "orientation": "horizontal",
            "max": 10,
            "_view_module": "@jupyter-widgets/controls",
            "_model_module_version": "1.5.0",
            "value": 5,
            "_view_count": null,
            "disabled": false,
            "_view_module_version": "1.5.0",
            "min": 0,
            "continuous_update": true,
            "readout_format": "d",
            "description_tooltip": null,
            "readout": true,
            "_model_module": "@jupyter-widgets/controls",
            "layout": "IPY_MODEL_8369e901344e47329d6835d1b2b90a5a"
          }
        },
        "ce3db07708bf4b1a89b9a601bad3ab95": {
          "model_module": "@jupyter-widgets/controls",
          "model_name": "SliderStyleModel",
          "model_module_version": "1.5.0",
          "state": {
            "_view_name": "StyleView",
            "handle_color": null,
            "_model_name": "SliderStyleModel",
            "description_width": "initial",
            "_view_module": "@jupyter-widgets/base",
            "_model_module_version": "1.5.0",
            "_view_count": null,
            "_view_module_version": "1.2.0",
            "_model_module": "@jupyter-widgets/controls"
          }
        },
        "6b51cf368b624db288dc4abe1c3005ef": {
          "model_module": "@jupyter-widgets/controls",
          "model_name": "IntSliderModel",
          "model_module_version": "1.5.0",
          "state": {
            "_view_name": "IntSliderView",
            "style": "IPY_MODEL_375835c666d34451a157a45b61688f95",
            "_dom_classes": [],
            "description": "How good is your eyesight:",
            "step": 1,
            "_model_name": "IntSliderModel",
            "orientation": "horizontal",
            "max": 10,
            "_view_module": "@jupyter-widgets/controls",
            "_model_module_version": "1.5.0",
            "value": 5,
            "_view_count": null,
            "disabled": false,
            "_view_module_version": "1.5.0",
            "min": 0,
            "continuous_update": true,
            "readout_format": "d",
            "description_tooltip": null,
            "readout": true,
            "_model_module": "@jupyter-widgets/controls",
            "layout": "IPY_MODEL_8369e901344e47329d6835d1b2b90a5a"
          }
        },
        "375835c666d34451a157a45b61688f95": {
          "model_module": "@jupyter-widgets/controls",
          "model_name": "SliderStyleModel",
          "model_module_version": "1.5.0",
          "state": {
            "_view_name": "StyleView",
            "handle_color": null,
            "_model_name": "SliderStyleModel",
            "description_width": "initial",
            "_view_module": "@jupyter-widgets/base",
            "_model_module_version": "1.5.0",
            "_view_count": null,
            "_view_module_version": "1.2.0",
            "_model_module": "@jupyter-widgets/controls"
          }
        },
        "537ce1d00ac3478e9483e51275dd72f3": {
          "model_module": "@jupyter-widgets/controls",
          "model_name": "IntSliderModel",
          "model_module_version": "1.5.0",
          "state": {
            "_view_name": "IntSliderView",
            "style": "IPY_MODEL_04c36448603e40899cdd162e0708b563",
            "_dom_classes": [],
            "description": "How much sleep do you get:",
            "step": 1,
            "_model_name": "IntSliderModel",
            "orientation": "horizontal",
            "max": 10,
            "_view_module": "@jupyter-widgets/controls",
            "_model_module_version": "1.5.0",
            "value": 5,
            "_view_count": null,
            "disabled": false,
            "_view_module_version": "1.5.0",
            "min": 0,
            "continuous_update": true,
            "readout_format": "d",
            "description_tooltip": null,
            "readout": true,
            "_model_module": "@jupyter-widgets/controls",
            "layout": "IPY_MODEL_8369e901344e47329d6835d1b2b90a5a"
          }
        },
        "04c36448603e40899cdd162e0708b563": {
          "model_module": "@jupyter-widgets/controls",
          "model_name": "SliderStyleModel",
          "model_module_version": "1.5.0",
          "state": {
            "_view_name": "StyleView",
            "handle_color": null,
            "_model_name": "SliderStyleModel",
            "description_width": "initial",
            "_view_module": "@jupyter-widgets/base",
            "_model_module_version": "1.5.0",
            "_view_count": null,
            "_view_module_version": "1.2.0",
            "_model_module": "@jupyter-widgets/controls"
          }
        },
        "7f24b0a6c1814283ae5057c578bd0537": {
          "model_module": "@jupyter-widgets/controls",
          "model_name": "IntSliderModel",
          "model_module_version": "1.5.0",
          "state": {
            "_view_name": "IntSliderView",
            "style": "IPY_MODEL_67bc6f3417074bd5b4d205db785e7fe4",
            "_dom_classes": [],
            "description": "How many days of vacation do you lose:",
            "step": 1,
            "_model_name": "IntSliderModel",
            "orientation": "horizontal",
            "max": 10,
            "_view_module": "@jupyter-widgets/controls",
            "_model_module_version": "1.5.0",
            "value": 5,
            "_view_count": null,
            "disabled": false,
            "_view_module_version": "1.5.0",
            "min": 0,
            "continuous_update": true,
            "readout_format": "d",
            "description_tooltip": null,
            "readout": true,
            "_model_module": "@jupyter-widgets/controls",
            "layout": "IPY_MODEL_8369e901344e47329d6835d1b2b90a5a"
          }
        },
        "67bc6f3417074bd5b4d205db785e7fe4": {
          "model_module": "@jupyter-widgets/controls",
          "model_name": "SliderStyleModel",
          "model_module_version": "1.5.0",
          "state": {
            "_view_name": "StyleView",
            "handle_color": null,
            "_model_name": "SliderStyleModel",
            "description_width": "initial",
            "_view_module": "@jupyter-widgets/base",
            "_model_module_version": "1.5.0",
            "_view_count": null,
            "_view_module_version": "1.2.0",
            "_model_module": "@jupyter-widgets/controls"
          }
        },
        "dcb1eaaf60174f728b02bcd53010f7c1": {
          "model_module": "@jupyter-widgets/controls",
          "model_name": "IntSliderModel",
          "model_module_version": "1.5.0",
          "state": {
            "_view_name": "IntSliderView",
            "style": "IPY_MODEL_3a2a0556507644b1ada4d394df53be2c",
            "_dom_classes": [],
            "description": "How often do you shout or sulk:",
            "step": 1,
            "_model_name": "IntSliderModel",
            "orientation": "horizontal",
            "max": 10,
            "_view_module": "@jupyter-widgets/controls",
            "_model_module_version": "1.5.0",
            "value": 5,
            "_view_count": null,
            "disabled": false,
            "_view_module_version": "1.5.0",
            "min": 0,
            "continuous_update": true,
            "readout_format": "d",
            "description_tooltip": null,
            "readout": true,
            "_model_module": "@jupyter-widgets/controls",
            "layout": "IPY_MODEL_8369e901344e47329d6835d1b2b90a5a"
          }
        },
        "3a2a0556507644b1ada4d394df53be2c": {
          "model_module": "@jupyter-widgets/controls",
          "model_name": "SliderStyleModel",
          "model_module_version": "1.5.0",
          "state": {
            "_view_name": "StyleView",
            "handle_color": null,
            "_model_name": "SliderStyleModel",
            "description_width": "initial",
            "_view_module": "@jupyter-widgets/base",
            "_model_module_version": "1.5.0",
            "_view_count": null,
            "_view_module_version": "1.2.0",
            "_model_module": "@jupyter-widgets/controls"
          }
        },
        "817156c965c64f2db643a59daae31926": {
          "model_module": "@jupyter-widgets/controls",
          "model_name": "IntSliderModel",
          "model_module_version": "1.5.0",
          "state": {
            "_view_name": "IntSliderView",
            "style": "IPY_MODEL_0a113d2098a946d4aeaac4ed426e9570",
            "_dom_classes": [],
            "description": "Do you/your family have sufficient income (1=No; 2=Yes):",
            "step": 1,
            "_model_name": "IntSliderModel",
            "orientation": "horizontal",
            "max": 2,
            "_view_module": "@jupyter-widgets/controls",
            "_model_module_version": "1.5.0",
            "value": 1,
            "_view_count": null,
            "disabled": false,
            "_view_module_version": "1.5.0",
            "min": 1,
            "continuous_update": true,
            "readout_format": "d",
            "description_tooltip": null,
            "readout": true,
            "_model_module": "@jupyter-widgets/controls",
            "layout": "IPY_MODEL_8369e901344e47329d6835d1b2b90a5a"
          }
        },
        "0a113d2098a946d4aeaac4ed426e9570": {
          "model_module": "@jupyter-widgets/controls",
          "model_name": "SliderStyleModel",
          "model_module_version": "1.5.0",
          "state": {
            "_view_name": "StyleView",
            "handle_color": null,
            "_model_name": "SliderStyleModel",
            "description_width": "initial",
            "_view_module": "@jupyter-widgets/base",
            "_model_module_version": "1.5.0",
            "_view_count": null,
            "_view_module_version": "1.2.0",
            "_model_module": "@jupyter-widgets/controls"
          }
        },
        "e7f8e3d2b2644234bc65175566c871f7": {
          "model_module": "@jupyter-widgets/controls",
          "model_name": "IntSliderModel",
          "model_module_version": "1.5.0",
          "state": {
            "_view_name": "IntSliderView",
            "style": "IPY_MODEL_f863167b07a64d288d0efd7e9e65d135",
            "_dom_classes": [],
            "description": "How many recognition (awards) do you have:",
            "step": 1,
            "_model_name": "IntSliderModel",
            "orientation": "horizontal",
            "max": 10,
            "_view_module": "@jupyter-widgets/controls",
            "_model_module_version": "1.5.0",
            "value": 5,
            "_view_count": null,
            "disabled": false,
            "_view_module_version": "1.5.0",
            "min": 0,
            "continuous_update": true,
            "readout_format": "d",
            "description_tooltip": null,
            "readout": true,
            "_model_module": "@jupyter-widgets/controls",
            "layout": "IPY_MODEL_8369e901344e47329d6835d1b2b90a5a"
          }
        },
        "f863167b07a64d288d0efd7e9e65d135": {
          "model_module": "@jupyter-widgets/controls",
          "model_name": "SliderStyleModel",
          "model_module_version": "1.5.0",
          "state": {
            "_view_name": "StyleView",
            "handle_color": null,
            "_model_name": "SliderStyleModel",
            "description_width": "initial",
            "_view_module": "@jupyter-widgets/base",
            "_model_module_version": "1.5.0",
            "_view_count": null,
            "_view_module_version": "1.2.0",
            "_model_module": "@jupyter-widgets/controls"
          }
        },
        "4c58bb3b1d014e34962fa11676247a06": {
          "model_module": "@jupyter-widgets/controls",
          "model_name": "IntSliderModel",
          "model_module_version": "1.5.0",
          "state": {
            "_view_name": "IntSliderView",
            "style": "IPY_MODEL_168bc601a705407b89e71ae185b010fe",
            "_dom_classes": [],
            "description": "How much time do you have for your passion:",
            "step": 1,
            "_model_name": "IntSliderModel",
            "orientation": "horizontal",
            "max": 10,
            "_view_module": "@jupyter-widgets/controls",
            "_model_module_version": "1.5.0",
            "value": 5,
            "_view_count": null,
            "disabled": false,
            "_view_module_version": "1.5.0",
            "min": 0,
            "continuous_update": true,
            "readout_format": "d",
            "description_tooltip": null,
            "readout": true,
            "_model_module": "@jupyter-widgets/controls",
            "layout": "IPY_MODEL_8369e901344e47329d6835d1b2b90a5a"
          }
        },
        "168bc601a705407b89e71ae185b010fe": {
          "model_module": "@jupyter-widgets/controls",
          "model_name": "SliderStyleModel",
          "model_module_version": "1.5.0",
          "state": {
            "_view_name": "StyleView",
            "handle_color": null,
            "_model_name": "SliderStyleModel",
            "description_width": "initial",
            "_view_module": "@jupyter-widgets/base",
            "_model_module_version": "1.5.0",
            "_view_count": null,
            "_view_module_version": "1.2.0",
            "_model_module": "@jupyter-widgets/controls"
          }
        },
        "83019a3862f34aa2a5a77e61012aea60": {
          "model_module": "@jupyter-widgets/controls",
          "model_name": "IntSliderModel",
          "model_module_version": "1.5.0",
          "state": {
            "_view_name": "IntSliderView",
            "style": "IPY_MODEL_28048c5233ab4f4b8534a426ee630618",
            "_dom_classes": [],
            "description": "Weekly, how many times do you reflect on yourself:",
            "step": 1,
            "_model_name": "IntSliderModel",
            "orientation": "horizontal",
            "max": 10,
            "_view_module": "@jupyter-widgets/controls",
            "_model_module_version": "1.5.0",
            "value": 5,
            "_view_count": null,
            "disabled": false,
            "_view_module_version": "1.5.0",
            "min": 0,
            "continuous_update": true,
            "readout_format": "d",
            "description_tooltip": null,
            "readout": true,
            "_model_module": "@jupyter-widgets/controls",
            "layout": "IPY_MODEL_8369e901344e47329d6835d1b2b90a5a"
          }
        },
        "28048c5233ab4f4b8534a426ee630618": {
          "model_module": "@jupyter-widgets/controls",
          "model_name": "SliderStyleModel",
          "model_module_version": "1.5.0",
          "state": {
            "_view_name": "StyleView",
            "handle_color": null,
            "_model_name": "SliderStyleModel",
            "description_width": "initial",
            "_view_module": "@jupyter-widgets/base",
            "_model_module_version": "1.5.0",
            "_view_count": null,
            "_view_module_version": "1.2.0",
            "_model_module": "@jupyter-widgets/controls"
          }
        }
      }
    }
  },
  "cells": [
    {
      "cell_type": "markdown",
      "metadata": {
        "id": "oG4oxuG0LAkh"
      },
      "source": [
        "#Prototype Version"
      ]
    },
    {
      "cell_type": "code",
      "metadata": {
        "id": "Fl4ewDdRNh_0"
      },
      "source": [
        "class color:\n",
        "   BOLD = '\\033[1m'\n",
        "   END = '\\033[0m'"
      ],
      "execution_count": null,
      "outputs": []
    },
    {
      "cell_type": "code",
      "metadata": {
        "id": "aqFtLwPhwgca"
      },
      "source": [
        "import pandas as pd\n",
        "import numpy as np\n",
        "import matplotlib.pyplot as plt\n",
        "from keras.models import Sequential\n",
        "from keras.layers import Dense\n",
        "from sklearn import preprocessing\n",
        "from sklearn.preprocessing import StandardScaler\n",
        "from sklearn.preprocessing import MinMaxScaler\n",
        "from sklearn.model_selection import train_test_split\n",
        "import ipywidgets as widgets"
      ],
      "execution_count": null,
      "outputs": []
    },
    {
      "cell_type": "code",
      "metadata": {
        "id": "T27LZ8-U9nPb"
      },
      "source": [
        "df = pd.read_csv('WellbeingDataset.csv')"
      ],
      "execution_count": null,
      "outputs": []
    },
    {
      "cell_type": "code",
      "metadata": {
        "id": "6ohSt-bMVfyg",
        "colab": {
          "base_uri": "https://localhost:8080/",
          "height": 317
        },
        "outputId": "d78ee408-6c73-416d-8c16-266cb11d037b"
      },
      "source": [
        "#df.corr()\n",
        "#df.info()\n",
        "df.describe()"
      ],
      "execution_count": null,
      "outputs": [
        {
          "output_type": "execute_result",
          "data": {
            "text/html": [
              "<div>\n",
              "<style scoped>\n",
              "    .dataframe tbody tr th:only-of-type {\n",
              "        vertical-align: middle;\n",
              "    }\n",
              "\n",
              "    .dataframe tbody tr th {\n",
              "        vertical-align: top;\n",
              "    }\n",
              "\n",
              "    .dataframe thead th {\n",
              "        text-align: right;\n",
              "    }\n",
              "</style>\n",
              "<table border=\"1\" class=\"dataframe\">\n",
              "  <thead>\n",
              "    <tr style=\"text-align: right;\">\n",
              "      <th></th>\n",
              "      <th>FRUITS_VEGGIES</th>\n",
              "      <th>DAILY_STRESS</th>\n",
              "      <th>PLACES_VISITED</th>\n",
              "      <th>CORE_CIRCLE</th>\n",
              "      <th>SUPPORTING_OTHERS</th>\n",
              "      <th>SOCIAL_NETWORK</th>\n",
              "      <th>ACHIEVEMENT</th>\n",
              "      <th>DONATION</th>\n",
              "      <th>BMI_RANGE</th>\n",
              "      <th>TODO_COMPLETED</th>\n",
              "      <th>FLOW</th>\n",
              "      <th>DAILY_STEPS</th>\n",
              "      <th>LIVE_VISION</th>\n",
              "      <th>SLEEP_HOURS</th>\n",
              "      <th>LOST_VACATION</th>\n",
              "      <th>DAILY_SHOUTING</th>\n",
              "      <th>SUFFICIENT_INCOME</th>\n",
              "      <th>PERSONAL_AWARDS</th>\n",
              "      <th>TIME_FOR_PASSION</th>\n",
              "      <th>WEEKLY_MEDITATION</th>\n",
              "      <th>WORK_LIFE_BALANCE_SCORE</th>\n",
              "    </tr>\n",
              "  </thead>\n",
              "  <tbody>\n",
              "    <tr>\n",
              "      <th>count</th>\n",
              "      <td>15972.000000</td>\n",
              "      <td>15972.000000</td>\n",
              "      <td>15972.000000</td>\n",
              "      <td>15972.000000</td>\n",
              "      <td>15972.000000</td>\n",
              "      <td>15972.000000</td>\n",
              "      <td>15972.000000</td>\n",
              "      <td>15972.000000</td>\n",
              "      <td>15972.000000</td>\n",
              "      <td>15972.000000</td>\n",
              "      <td>15972.000000</td>\n",
              "      <td>15972.000000</td>\n",
              "      <td>15972.000000</td>\n",
              "      <td>15972.000000</td>\n",
              "      <td>15972.000000</td>\n",
              "      <td>15972.000000</td>\n",
              "      <td>15972.000000</td>\n",
              "      <td>15972.000000</td>\n",
              "      <td>15972.000000</td>\n",
              "      <td>15972.000000</td>\n",
              "      <td>15972.000000</td>\n",
              "    </tr>\n",
              "    <tr>\n",
              "      <th>mean</th>\n",
              "      <td>2.922677</td>\n",
              "      <td>2.791510</td>\n",
              "      <td>5.232970</td>\n",
              "      <td>5.508077</td>\n",
              "      <td>5.616454</td>\n",
              "      <td>6.474267</td>\n",
              "      <td>4.000751</td>\n",
              "      <td>2.715314</td>\n",
              "      <td>1.410656</td>\n",
              "      <td>5.745993</td>\n",
              "      <td>3.194778</td>\n",
              "      <td>5.703606</td>\n",
              "      <td>3.752129</td>\n",
              "      <td>7.042888</td>\n",
              "      <td>2.898886</td>\n",
              "      <td>2.930879</td>\n",
              "      <td>1.728963</td>\n",
              "      <td>5.711558</td>\n",
              "      <td>3.326572</td>\n",
              "      <td>6.233346</td>\n",
              "      <td>666.751503</td>\n",
              "    </tr>\n",
              "    <tr>\n",
              "      <th>std</th>\n",
              "      <td>1.442694</td>\n",
              "      <td>1.367936</td>\n",
              "      <td>3.311912</td>\n",
              "      <td>2.840334</td>\n",
              "      <td>3.242021</td>\n",
              "      <td>3.086672</td>\n",
              "      <td>2.755837</td>\n",
              "      <td>1.851586</td>\n",
              "      <td>0.491968</td>\n",
              "      <td>2.624097</td>\n",
              "      <td>2.357518</td>\n",
              "      <td>2.891013</td>\n",
              "      <td>3.230987</td>\n",
              "      <td>1.199044</td>\n",
              "      <td>3.692180</td>\n",
              "      <td>2.676301</td>\n",
              "      <td>0.444509</td>\n",
              "      <td>3.089630</td>\n",
              "      <td>2.729293</td>\n",
              "      <td>3.016571</td>\n",
              "      <td>45.019868</td>\n",
              "    </tr>\n",
              "    <tr>\n",
              "      <th>min</th>\n",
              "      <td>0.000000</td>\n",
              "      <td>0.000000</td>\n",
              "      <td>0.000000</td>\n",
              "      <td>0.000000</td>\n",
              "      <td>0.000000</td>\n",
              "      <td>0.000000</td>\n",
              "      <td>0.000000</td>\n",
              "      <td>0.000000</td>\n",
              "      <td>1.000000</td>\n",
              "      <td>0.000000</td>\n",
              "      <td>0.000000</td>\n",
              "      <td>1.000000</td>\n",
              "      <td>0.000000</td>\n",
              "      <td>1.000000</td>\n",
              "      <td>0.000000</td>\n",
              "      <td>0.000000</td>\n",
              "      <td>1.000000</td>\n",
              "      <td>0.000000</td>\n",
              "      <td>0.000000</td>\n",
              "      <td>0.000000</td>\n",
              "      <td>480.000000</td>\n",
              "    </tr>\n",
              "    <tr>\n",
              "      <th>25%</th>\n",
              "      <td>2.000000</td>\n",
              "      <td>2.000000</td>\n",
              "      <td>2.000000</td>\n",
              "      <td>3.000000</td>\n",
              "      <td>3.000000</td>\n",
              "      <td>4.000000</td>\n",
              "      <td>2.000000</td>\n",
              "      <td>1.000000</td>\n",
              "      <td>1.000000</td>\n",
              "      <td>4.000000</td>\n",
              "      <td>1.000000</td>\n",
              "      <td>3.000000</td>\n",
              "      <td>1.000000</td>\n",
              "      <td>6.000000</td>\n",
              "      <td>0.000000</td>\n",
              "      <td>1.000000</td>\n",
              "      <td>1.000000</td>\n",
              "      <td>3.000000</td>\n",
              "      <td>1.000000</td>\n",
              "      <td>4.000000</td>\n",
              "      <td>636.000000</td>\n",
              "    </tr>\n",
              "    <tr>\n",
              "      <th>50%</th>\n",
              "      <td>3.000000</td>\n",
              "      <td>3.000000</td>\n",
              "      <td>5.000000</td>\n",
              "      <td>5.000000</td>\n",
              "      <td>5.000000</td>\n",
              "      <td>6.000000</td>\n",
              "      <td>3.000000</td>\n",
              "      <td>3.000000</td>\n",
              "      <td>1.000000</td>\n",
              "      <td>6.000000</td>\n",
              "      <td>3.000000</td>\n",
              "      <td>5.000000</td>\n",
              "      <td>3.000000</td>\n",
              "      <td>7.000000</td>\n",
              "      <td>0.000000</td>\n",
              "      <td>2.000000</td>\n",
              "      <td>2.000000</td>\n",
              "      <td>5.000000</td>\n",
              "      <td>3.000000</td>\n",
              "      <td>7.000000</td>\n",
              "      <td>667.700000</td>\n",
              "    </tr>\n",
              "    <tr>\n",
              "      <th>75%</th>\n",
              "      <td>4.000000</td>\n",
              "      <td>4.000000</td>\n",
              "      <td>8.000000</td>\n",
              "      <td>8.000000</td>\n",
              "      <td>10.000000</td>\n",
              "      <td>10.000000</td>\n",
              "      <td>6.000000</td>\n",
              "      <td>5.000000</td>\n",
              "      <td>2.000000</td>\n",
              "      <td>8.000000</td>\n",
              "      <td>5.000000</td>\n",
              "      <td>8.000000</td>\n",
              "      <td>5.000000</td>\n",
              "      <td>8.000000</td>\n",
              "      <td>5.000000</td>\n",
              "      <td>4.000000</td>\n",
              "      <td>2.000000</td>\n",
              "      <td>9.000000</td>\n",
              "      <td>5.000000</td>\n",
              "      <td>10.000000</td>\n",
              "      <td>698.500000</td>\n",
              "    </tr>\n",
              "    <tr>\n",
              "      <th>max</th>\n",
              "      <td>5.000000</td>\n",
              "      <td>5.000000</td>\n",
              "      <td>10.000000</td>\n",
              "      <td>10.000000</td>\n",
              "      <td>10.000000</td>\n",
              "      <td>10.000000</td>\n",
              "      <td>10.000000</td>\n",
              "      <td>5.000000</td>\n",
              "      <td>2.000000</td>\n",
              "      <td>10.000000</td>\n",
              "      <td>10.000000</td>\n",
              "      <td>10.000000</td>\n",
              "      <td>10.000000</td>\n",
              "      <td>10.000000</td>\n",
              "      <td>10.000000</td>\n",
              "      <td>10.000000</td>\n",
              "      <td>2.000000</td>\n",
              "      <td>10.000000</td>\n",
              "      <td>10.000000</td>\n",
              "      <td>10.000000</td>\n",
              "      <td>820.200000</td>\n",
              "    </tr>\n",
              "  </tbody>\n",
              "</table>\n",
              "</div>"
            ],
            "text/plain": [
              "       FRUITS_VEGGIES  DAILY_STRESS  ...  WEEKLY_MEDITATION  WORK_LIFE_BALANCE_SCORE\n",
              "count    15972.000000  15972.000000  ...       15972.000000             15972.000000\n",
              "mean         2.922677      2.791510  ...           6.233346               666.751503\n",
              "std          1.442694      1.367936  ...           3.016571                45.019868\n",
              "min          0.000000      0.000000  ...           0.000000               480.000000\n",
              "25%          2.000000      2.000000  ...           4.000000               636.000000\n",
              "50%          3.000000      3.000000  ...           7.000000               667.700000\n",
              "75%          4.000000      4.000000  ...          10.000000               698.500000\n",
              "max          5.000000      5.000000  ...          10.000000               820.200000\n",
              "\n",
              "[8 rows x 21 columns]"
            ]
          },
          "metadata": {},
          "execution_count": 8
        }
      ]
    },
    {
      "cell_type": "code",
      "metadata": {
        "id": "AmaP2yiZubtS"
      },
      "source": [
        "X = df.iloc[20:,1:21].values\n",
        "y = df.iloc[20:,23:24].values"
      ],
      "execution_count": null,
      "outputs": []
    },
    {
      "cell_type": "code",
      "metadata": {
        "id": "OElI-xa6wC8p"
      },
      "source": [
        "sc = StandardScaler()\n",
        "X = sc.fit_transform(X)"
      ],
      "execution_count": null,
      "outputs": []
    },
    {
      "cell_type": "code",
      "metadata": {
        "id": "b_7VGHx0vG0e"
      },
      "source": [
        "X_train,X_test,y_train,y_test = train_test_split(X,y,test_size = 0.2)"
      ],
      "execution_count": null,
      "outputs": []
    },
    {
      "cell_type": "code",
      "metadata": {
        "id": "zjcy717lwAbF",
        "colab": {
          "base_uri": "https://localhost:8080/"
        },
        "outputId": "5546060e-e29b-4694-e73b-c8e0f21f16a4"
      },
      "source": [
        "model = Sequential()\n",
        "model.add(Dense(12, input_dim=20, kernel_initializer='normal', activation='relu'))\n",
        "model.add(Dense(4, activation='relu'))\n",
        "model.add(Dense(1, activation='linear'))\n",
        "\n",
        "model.compile(loss='mse', optimizer='adam', metrics=['mse','mae'])\n",
        "\n",
        "\n",
        "#history = model.fit(X_train, y_train, epochs=100, batch_size=64)\n",
        "history = model.fit(X_train, y_train, validation_data = (X_test,y_test), epochs=70, batch_size=64)\n",
        "model.save('saved_model/my_model')"
      ],
      "execution_count": null,
      "outputs": [
        {
          "output_type": "stream",
          "name": "stdout",
          "text": [
            "Epoch 1/70\n",
            "200/200 [==============================] - 1s 3ms/step - loss: 445733.9062 - mse: 445733.9062 - mae: 666.0834 - val_loss: 443910.5312 - val_mse: 443910.5312 - val_mae: 664.5983\n",
            "Epoch 2/70\n",
            "200/200 [==============================] - 0s 2ms/step - loss: 438163.9062 - mse: 438163.9062 - mae: 659.9947 - val_loss: 429485.3750 - val_mse: 429485.3750 - val_mae: 652.8248\n",
            "Epoch 3/70\n",
            "200/200 [==============================] - 0s 2ms/step - loss: 414332.5312 - mse: 414332.5312 - mae: 639.8975 - val_loss: 396055.5000 - val_mse: 396055.5000 - val_mae: 623.5158\n",
            "Epoch 4/70\n",
            "200/200 [==============================] - 0s 2ms/step - loss: 372152.1875 - mse: 372152.1875 - mae: 600.3397 - val_loss: 347577.9375 - val_mse: 347577.9375 - val_mae: 574.4164\n",
            "Epoch 5/70\n",
            "200/200 [==============================] - 0s 2ms/step - loss: 321354.3125 - mse: 321354.3125 - mae: 544.6106 - val_loss: 298654.4688 - val_mse: 298654.4688 - val_mae: 516.8362\n",
            "Epoch 6/70\n",
            "200/200 [==============================] - 0s 2ms/step - loss: 276673.4062 - mse: 276673.4062 - mae: 490.6885 - val_loss: 261305.3594 - val_mse: 261305.3594 - val_mae: 474.1920\n",
            "Epoch 7/70\n",
            "200/200 [==============================] - 0s 2ms/step - loss: 244221.7656 - mse: 244221.7656 - mae: 454.7877 - val_loss: 234263.2812 - val_mse: 234263.2812 - val_mae: 446.0179\n",
            "Epoch 8/70\n",
            "200/200 [==============================] - 0s 2ms/step - loss: 218539.5469 - mse: 218539.5469 - mae: 428.8825 - val_loss: 209767.1094 - val_mse: 209767.1094 - val_mae: 420.8727\n",
            "Epoch 9/70\n",
            "200/200 [==============================] - 0s 2ms/step - loss: 193863.2031 - mse: 193863.2031 - mae: 403.2998 - val_loss: 184707.0156 - val_mse: 184707.0156 - val_mae: 393.7793\n",
            "Epoch 10/70\n",
            "200/200 [==============================] - 0s 2ms/step - loss: 168845.9375 - mse: 168845.9375 - mae: 375.0105 - val_loss: 159381.1562 - val_mse: 159381.1562 - val_mae: 363.3766\n",
            "Epoch 11/70\n",
            "200/200 [==============================] - 0s 2ms/step - loss: 144261.0938 - mse: 144261.0938 - mae: 343.8157 - val_loss: 135090.9375 - val_mse: 135090.9375 - val_mae: 330.7922\n",
            "Epoch 12/70\n",
            "200/200 [==============================] - 0s 2ms/step - loss: 121244.6172 - mse: 121244.6172 - mae: 311.2347 - val_loss: 112926.2734 - val_mse: 112926.2734 - val_mae: 298.6411\n",
            "Epoch 13/70\n",
            "200/200 [==============================] - 0s 2ms/step - loss: 100696.4531 - mse: 100696.4531 - mae: 279.7444 - val_loss: 93653.7812 - val_mse: 93653.7812 - val_mae: 268.9140\n",
            "Epoch 14/70\n",
            "200/200 [==============================] - 0s 2ms/step - loss: 82993.0078 - mse: 82993.0078 - mae: 251.1669 - val_loss: 77180.2188 - val_mse: 77180.2188 - val_mae: 241.7337\n",
            "Epoch 15/70\n",
            "200/200 [==============================] - 0s 2ms/step - loss: 67879.9219 - mse: 67879.9219 - mae: 224.1741 - val_loss: 63047.5000 - val_mse: 63047.5000 - val_mae: 215.7013\n",
            "Epoch 16/70\n",
            "200/200 [==============================] - 0s 2ms/step - loss: 54828.6797 - mse: 54828.6797 - mae: 198.1916 - val_loss: 50655.4727 - val_mse: 50655.4727 - val_mae: 190.2608\n",
            "Epoch 17/70\n",
            "200/200 [==============================] - 0s 2ms/step - loss: 43617.9648 - mse: 43617.9648 - mae: 173.8995 - val_loss: 40022.3945 - val_mse: 40022.3945 - val_mae: 166.5421\n",
            "Epoch 18/70\n",
            "200/200 [==============================] - 0s 2ms/step - loss: 34324.8086 - mse: 34324.8086 - mae: 152.3584 - val_loss: 31478.3145 - val_mse: 31478.3145 - val_mae: 146.1121\n",
            "Epoch 19/70\n",
            "200/200 [==============================] - 0s 2ms/step - loss: 27065.0859 - mse: 27065.0859 - mae: 134.3956 - val_loss: 25039.9727 - val_mse: 25039.9727 - val_mae: 129.6356\n",
            "Epoch 20/70\n",
            "200/200 [==============================] - 0s 2ms/step - loss: 21748.0703 - mse: 21748.0703 - mae: 120.3055 - val_loss: 20382.2344 - val_mse: 20382.2344 - val_mae: 116.5372\n",
            "Epoch 21/70\n",
            "200/200 [==============================] - 0s 2ms/step - loss: 17845.8965 - mse: 17845.8965 - mae: 108.9510 - val_loss: 16914.8125 - val_mse: 16914.8125 - val_mae: 105.9103\n",
            "Epoch 22/70\n",
            "200/200 [==============================] - 0s 2ms/step - loss: 14899.9141 - mse: 14899.9141 - mae: 99.4456 - val_loss: 14233.3926 - val_mse: 14233.3926 - val_mae: 97.0201\n",
            "Epoch 23/70\n",
            "200/200 [==============================] - 0s 2ms/step - loss: 12627.7412 - mse: 12627.7412 - mae: 91.5562 - val_loss: 12131.6914 - val_mse: 12131.6914 - val_mae: 89.3495\n",
            "Epoch 24/70\n",
            "200/200 [==============================] - 0s 2ms/step - loss: 10814.6650 - mse: 10814.6650 - mae: 84.7421 - val_loss: 10452.6357 - val_mse: 10452.6357 - val_mae: 82.8508\n",
            "Epoch 25/70\n",
            "200/200 [==============================] - 0s 2ms/step - loss: 9359.1426 - mse: 9359.1426 - mae: 78.7065 - val_loss: 9076.4199 - val_mse: 9076.4199 - val_mae: 77.1054\n",
            "Epoch 26/70\n",
            "200/200 [==============================] - 0s 2ms/step - loss: 8162.4043 - mse: 8162.4043 - mae: 73.4294 - val_loss: 7931.6885 - val_mse: 7931.6885 - val_mae: 72.1076\n",
            "Epoch 27/70\n",
            "200/200 [==============================] - 0s 2ms/step - loss: 7147.5566 - mse: 7147.5566 - mae: 68.6827 - val_loss: 6963.9180 - val_mse: 6963.9180 - val_mae: 67.2120\n",
            "Epoch 28/70\n",
            "200/200 [==============================] - 0s 2ms/step - loss: 6279.0947 - mse: 6279.0947 - mae: 64.2105 - val_loss: 6127.7539 - val_mse: 6127.7539 - val_mae: 63.0223\n",
            "Epoch 29/70\n",
            "200/200 [==============================] - 0s 2ms/step - loss: 5517.3433 - mse: 5517.3433 - mae: 60.1776 - val_loss: 5411.3901 - val_mse: 5411.3901 - val_mae: 58.8106\n",
            "Epoch 30/70\n",
            "200/200 [==============================] - 0s 2ms/step - loss: 4863.3237 - mse: 4863.3237 - mae: 56.2811 - val_loss: 4754.2930 - val_mse: 4754.2930 - val_mae: 55.3695\n",
            "Epoch 31/70\n",
            "200/200 [==============================] - 0s 2ms/step - loss: 4276.6958 - mse: 4276.6958 - mae: 52.7524 - val_loss: 4186.1255 - val_mse: 4186.1255 - val_mae: 51.7652\n",
            "Epoch 32/70\n",
            "200/200 [==============================] - 0s 2ms/step - loss: 3758.4595 - mse: 3758.4595 - mae: 49.3428 - val_loss: 3687.6472 - val_mse: 3687.6472 - val_mae: 48.7302\n",
            "Epoch 33/70\n",
            "200/200 [==============================] - 0s 2ms/step - loss: 3300.1150 - mse: 3300.1150 - mae: 46.2801 - val_loss: 3238.6682 - val_mse: 3238.6682 - val_mae: 45.0919\n",
            "Epoch 34/70\n",
            "200/200 [==============================] - 0s 2ms/step - loss: 2890.2593 - mse: 2890.2593 - mae: 43.0708 - val_loss: 2832.4087 - val_mse: 2832.4087 - val_mae: 42.2623\n",
            "Epoch 35/70\n",
            "200/200 [==============================] - 0s 2ms/step - loss: 2524.2466 - mse: 2524.2466 - mae: 40.2679 - val_loss: 2474.8174 - val_mse: 2474.8174 - val_mae: 39.3704\n",
            "Epoch 36/70\n",
            "200/200 [==============================] - 0s 2ms/step - loss: 2200.9526 - mse: 2200.9526 - mae: 37.5069 - val_loss: 2156.3623 - val_mse: 2156.3623 - val_mae: 36.5902\n",
            "Epoch 37/70\n",
            "200/200 [==============================] - 0s 2ms/step - loss: 1911.3589 - mse: 1911.3589 - mae: 34.8734 - val_loss: 1876.7784 - val_mse: 1876.7784 - val_mae: 34.0899\n",
            "Epoch 38/70\n",
            "200/200 [==============================] - 0s 2ms/step - loss: 1657.5844 - mse: 1657.5844 - mae: 32.3904 - val_loss: 1621.0386 - val_mse: 1621.0386 - val_mae: 31.8596\n",
            "Epoch 39/70\n",
            "200/200 [==============================] - 0s 2ms/step - loss: 1431.2659 - mse: 1431.2659 - mae: 30.0605 - val_loss: 1401.7396 - val_mse: 1401.7396 - val_mae: 29.4250\n",
            "Epoch 40/70\n",
            "200/200 [==============================] - 0s 2ms/step - loss: 1232.5065 - mse: 1232.5065 - mae: 27.8065 - val_loss: 1204.5896 - val_mse: 1204.5896 - val_mae: 27.2491\n",
            "Epoch 41/70\n",
            "200/200 [==============================] - 0s 2ms/step - loss: 1055.5787 - mse: 1055.5787 - mae: 25.6503 - val_loss: 1031.7422 - val_mse: 1031.7422 - val_mae: 24.9997\n",
            "Epoch 42/70\n",
            "200/200 [==============================] - 0s 2ms/step - loss: 901.1516 - mse: 901.1516 - mae: 23.6509 - val_loss: 880.7817 - val_mse: 880.7817 - val_mae: 22.9254\n",
            "Epoch 43/70\n",
            "200/200 [==============================] - 0s 2ms/step - loss: 766.1951 - mse: 766.1951 - mae: 21.7177 - val_loss: 751.3270 - val_mse: 751.3270 - val_mae: 20.8294\n",
            "Epoch 44/70\n",
            "200/200 [==============================] - 0s 2ms/step - loss: 647.9071 - mse: 647.9071 - mae: 19.8695 - val_loss: 631.8208 - val_mse: 631.8208 - val_mae: 19.1111\n",
            "Epoch 45/70\n",
            "200/200 [==============================] - 0s 2ms/step - loss: 545.0018 - mse: 545.0018 - mae: 18.1286 - val_loss: 530.5644 - val_mse: 530.5644 - val_mae: 17.6594\n",
            "Epoch 46/70\n",
            "200/200 [==============================] - 0s 2ms/step - loss: 457.3975 - mse: 457.3975 - mae: 16.5652 - val_loss: 443.9600 - val_mse: 443.9600 - val_mae: 15.8496\n",
            "Epoch 47/70\n",
            "200/200 [==============================] - 0s 2ms/step - loss: 380.0031 - mse: 380.0031 - mae: 14.9826 - val_loss: 370.4550 - val_mse: 370.4550 - val_mae: 14.3491\n",
            "Epoch 48/70\n",
            "200/200 [==============================] - 0s 2ms/step - loss: 314.1780 - mse: 314.1780 - mae: 13.5053 - val_loss: 305.2659 - val_mse: 305.2659 - val_mae: 13.2180\n",
            "Epoch 49/70\n",
            "200/200 [==============================] - 0s 2ms/step - loss: 257.1755 - mse: 257.1755 - mae: 12.1372 - val_loss: 250.8707 - val_mse: 250.8707 - val_mae: 11.8138\n",
            "Epoch 50/70\n",
            "200/200 [==============================] - 0s 2ms/step - loss: 209.1507 - mse: 209.1507 - mae: 10.8272 - val_loss: 203.4111 - val_mse: 203.4111 - val_mae: 10.4758\n",
            "Epoch 51/70\n",
            "200/200 [==============================] - 0s 2ms/step - loss: 167.4589 - mse: 167.4589 - mae: 9.5522 - val_loss: 163.2489 - val_mse: 163.2489 - val_mae: 9.1056\n",
            "Epoch 52/70\n",
            "200/200 [==============================] - 0s 2ms/step - loss: 133.1201 - mse: 133.1201 - mae: 8.3608 - val_loss: 130.5912 - val_mse: 130.5912 - val_mae: 8.0499\n",
            "Epoch 53/70\n",
            "200/200 [==============================] - 0s 2ms/step - loss: 104.3123 - mse: 104.3123 - mae: 7.2689 - val_loss: 102.2587 - val_mse: 102.2587 - val_mae: 7.1546\n",
            "Epoch 54/70\n",
            "200/200 [==============================] - 0s 2ms/step - loss: 80.5978 - mse: 80.5978 - mae: 6.2410 - val_loss: 79.3081 - val_mse: 79.3081 - val_mae: 5.8788\n",
            "Epoch 55/70\n",
            "200/200 [==============================] - 0s 2ms/step - loss: 61.1868 - mse: 61.1868 - mae: 5.2731 - val_loss: 60.1736 - val_mse: 60.1736 - val_mae: 5.1951\n",
            "Epoch 56/70\n",
            "200/200 [==============================] - 0s 2ms/step - loss: 45.7256 - mse: 45.7256 - mae: 4.3868 - val_loss: 45.1504 - val_mse: 45.1504 - val_mae: 3.9525\n",
            "Epoch 57/70\n",
            "200/200 [==============================] - 0s 2ms/step - loss: 33.3219 - mse: 33.3219 - mae: 3.5707 - val_loss: 33.5123 - val_mse: 33.5123 - val_mae: 3.2091\n",
            "Epoch 58/70\n",
            "200/200 [==============================] - 0s 2ms/step - loss: 24.1598 - mse: 24.1598 - mae: 2.8852 - val_loss: 24.4390 - val_mse: 24.4390 - val_mae: 2.4713\n",
            "Epoch 59/70\n",
            "200/200 [==============================] - 0s 2ms/step - loss: 17.3752 - mse: 17.3752 - mae: 2.2978 - val_loss: 17.6844 - val_mse: 17.6844 - val_mae: 2.0104\n",
            "Epoch 60/70\n",
            "200/200 [==============================] - 0s 2ms/step - loss: 12.5040 - mse: 12.5040 - mae: 1.7833 - val_loss: 12.8338 - val_mse: 12.8338 - val_mae: 1.5432\n",
            "Epoch 61/70\n",
            "200/200 [==============================] - 0s 2ms/step - loss: 8.9284 - mse: 8.9284 - mae: 1.4129 - val_loss: 9.6648 - val_mse: 9.6648 - val_mae: 1.1738\n",
            "Epoch 62/70\n",
            "200/200 [==============================] - 0s 2ms/step - loss: 6.5694 - mse: 6.5694 - mae: 1.1077 - val_loss: 6.8716 - val_mse: 6.8716 - val_mae: 1.0140\n",
            "Epoch 63/70\n",
            "200/200 [==============================] - 0s 2ms/step - loss: 4.8832 - mse: 4.8832 - mae: 0.8771 - val_loss: 5.1305 - val_mse: 5.1305 - val_mae: 0.7935\n",
            "Epoch 64/70\n",
            "200/200 [==============================] - 0s 2ms/step - loss: 3.7219 - mse: 3.7219 - mae: 0.7090 - val_loss: 3.9388 - val_mse: 3.9388 - val_mae: 0.8136\n",
            "Epoch 65/70\n",
            "200/200 [==============================] - 0s 2ms/step - loss: 2.8491 - mse: 2.8491 - mae: 0.5733 - val_loss: 3.0082 - val_mse: 3.0082 - val_mae: 0.6938\n",
            "Epoch 66/70\n",
            "200/200 [==============================] - 0s 2ms/step - loss: 2.2470 - mse: 2.2470 - mae: 0.4879 - val_loss: 2.4246 - val_mse: 2.4246 - val_mae: 0.4173\n",
            "Epoch 67/70\n",
            "200/200 [==============================] - 0s 2ms/step - loss: 1.7784 - mse: 1.7784 - mae: 0.3842 - val_loss: 1.8744 - val_mse: 1.8744 - val_mae: 0.3360\n",
            "Epoch 68/70\n",
            "200/200 [==============================] - 0s 2ms/step - loss: 1.4384 - mse: 1.4384 - mae: 0.3533 - val_loss: 1.5977 - val_mse: 1.5977 - val_mae: 0.3074\n",
            "Epoch 69/70\n",
            "200/200 [==============================] - 0s 2ms/step - loss: 1.1709 - mse: 1.1709 - mae: 0.2979 - val_loss: 1.3163 - val_mse: 1.3163 - val_mae: 0.4527\n",
            "Epoch 70/70\n",
            "200/200 [==============================] - 0s 2ms/step - loss: 0.9507 - mse: 0.9507 - mae: 0.2571 - val_loss: 1.0515 - val_mse: 1.0515 - val_mae: 0.1493\n",
            "INFO:tensorflow:Assets written to: saved_model/my_model/assets\n"
          ]
        }
      ]
    },
    {
      "cell_type": "code",
      "metadata": {
        "id": "OqejUPHo2YTz",
        "colab": {
          "base_uri": "https://localhost:8080/",
          "height": 312
        },
        "outputId": "0e589416-34e5-411c-8769-abd9730eb7b5"
      },
      "source": [
        "#history = model.fit(X_train, y_train, validation_data = (X_test,y_test), epochs=50, batch_size=64)\n",
        "#history = model.fit(X_test, y_test, epochs=50, batch_size=64)\n",
        "print(history.history.keys())\n",
        "# \"Loss\"\n",
        "plt.plot(history.history['loss'][0:])\n",
        "plt.plot(history.history['val_loss'][0:])\n",
        "plt.title('model loss')\n",
        "plt.ylabel('loss')\n",
        "plt.xlabel('epoch')\n",
        "plt.legend(['train_error', 'test_error'], loc='upper left')\n",
        "plt.show()"
      ],
      "execution_count": null,
      "outputs": [
        {
          "output_type": "stream",
          "name": "stdout",
          "text": [
            "dict_keys(['loss', 'mse', 'mae', 'val_loss', 'val_mse', 'val_mae'])\n"
          ]
        },
        {
          "output_type": "display_data",
          "data": {
            "image/png": "[encoded data removed]",
            "text/plain": [
              "<Figure size 432x288 with 1 Axes>"
            ]
          },
          "metadata": {
            "needs_background": "light"
          }
        }
      ]
    },
    {
      "cell_type": "code",
      "metadata": {
        "id": "8vZRGzj97C5_",
        "colab": {
          "base_uri": "https://localhost:8080/",
          "height": 336
        },
        "outputId": "ad5f1f81-09b0-4325-97a4-216e76e94f2e"
      },
      "source": [
        "pd.options.mode.chained_assignment = None\n",
        "\n",
        "predicted_value = model.predict(X_test)\n",
        "train_data=df[:12781]\n",
        "test_data=df[12781:]\n",
        "test_data['Predictions']=predicted_value\n",
        "plt.plot(train_data[\"WORK_LIFE_BALANCE_SCORE\"])\n",
        "plt.plot(test_data[[\"WORK_LIFE_BALANCE_SCORE\",\"Predictions\"]])\n",
        "plt.legend([\"Train data\",\"New Test Data\",\"Prediction\"])\n",
        "\n",
        "print(model.evaluate(X_test, y_test)[1:])\n",
        "print(\"Neural Network predicting test data:\")"
      ],
      "execution_count": null,
      "outputs": [
        {
          "output_type": "stream",
          "name": "stdout",
          "text": [
            "100/100 [==============================] - 0s 1ms/step - loss: 1.0515 - mse: 1.0515 - mae: 0.1493\n",
            "[1.0514817237854004, 0.14926424622535706]\n",
            "Neural Network predicting test data:\n"
          ]
        },
        {
          "output_type": "display_data",
          "data": {
            "image/png": "[encoded data removed]",
            "text/plain": [
              "<Figure size 432x288 with 1 Axes>"
            ]
          },
          "metadata": {
            "needs_background": "light"
          }
        }
      ]
    },
    {
      "cell_type": "code",
      "metadata": {
        "id": "8d6VTrXlM2bQ",
        "colab": {
          "base_uri": "https://localhost:8080/",
          "height": 282
        },
        "outputId": "ff1baefe-5aef-4db8-a824-650c11b6601e"
      },
      "source": [
        "#Upon closer look\n",
        "prediction_data = sc.fit_transform(df.iloc[:20,1:21].values)\n",
        "pred = np.array(model.predict(prediction_data))\n",
        "plt.plot(pred)\n",
        "plt.plot(df['WORK_LIFE_BALANCE_SCORE'][:20])\n",
        "plt.legend([\"Prediction\", \"Actual\"])\n",
        "print(\"Looking closer at the 20 datas\")"
      ],
      "execution_count": null,
      "outputs": [
        {
          "output_type": "stream",
          "name": "stdout",
          "text": [
            "Looking closer at the 20 datas\n"
          ]
        },
        {
          "output_type": "display_data",
          "data": {
            "image/png": "[encoded data removed]",
            "text/plain": [
              "<Figure size 432x288 with 1 Axes>"
            ]
          },
          "metadata": {
            "needs_background": "light"
          }
        }
      ]
    },
    {
      "cell_type": "code",
      "metadata": {
        "id": "Chjx_NvxwavY",
        "colab": {
          "base_uri": "https://localhost:8080/",
          "height": 619,
          "referenced_widgets": [
            "28377800f87345d3b76d29bd32fa71a6",
            "ab674419244442b6bcb59a6329764523",
            "8369e901344e47329d6835d1b2b90a5a",
            "e979ab35a7c34557817111160938b8f0",
            "8b3a4ba9f2264fcf9dd919ff8c1aab32",
            "01d085ca4b98406897f7cc5e77f956f0",
            "53fcfccf43454f108262b2384d4301c2",
            "608ab55a55434de8a7bbc5a7513ee03a",
            "b25e4e86bfb94d7aacbde0f2ff179ad0",
            "a9e69999bbd74856ac118990c3a9f29d",
            "397abd1c854e4e0f8f46bff8507e57cc",
            "e9d935d944884ffcbc953471f5745ca0",
            "afec76b08b304f0abe84f540167c188c",
            "ff173ff17e8748c9bfe4192d2615c98c",
            "8defe13d05264f68b1c8132678ebd6bd",
            "54d1f620d37945a98eff2a23f555784d",
            "9d477c87cac847eda27338b000271a89",
            "004eb5e1c7a44de79401b6f568ee5cc0",
            "3f8978bd8ddd4f22ab7d4d047f16ee9e",
            "cfb2b8ec7d714950a49a9793b2e7fc9c",
            "fd52b954b9da45c5967e554f84ca6f7f",
            "d96b2a4de6104d1cb03d590553160fef",
            "0e41bef4628d4950b398d84ac08d18ca",
            "7604da90157f44edaf35f6d630071352",
            "ce3db07708bf4b1a89b9a601bad3ab95",
            "6b51cf368b624db288dc4abe1c3005ef",
            "375835c666d34451a157a45b61688f95",
            "537ce1d00ac3478e9483e51275dd72f3",
            "04c36448603e40899cdd162e0708b563",
            "7f24b0a6c1814283ae5057c578bd0537",
            "67bc6f3417074bd5b4d205db785e7fe4",
            "dcb1eaaf60174f728b02bcd53010f7c1",
            "3a2a0556507644b1ada4d394df53be2c",
            "817156c965c64f2db643a59daae31926",
            "0a113d2098a946d4aeaac4ed426e9570",
            "e7f8e3d2b2644234bc65175566c871f7",
            "f863167b07a64d288d0efd7e9e65d135",
            "4c58bb3b1d014e34962fa11676247a06",
            "168bc601a705407b89e71ae185b010fe",
            "83019a3862f34aa2a5a77e61012aea60",
            "28048c5233ab4f4b8534a426ee630618"
          ]
        },
        "outputId": "1693cf34-4462-4cc6-bcf4-de77285a0908"
      },
      "source": [
        "#Predicting Your Work Life Balance Score\n",
        "\n",
        "layout = widgets.Layout(width='500px')\n",
        "style = {'description_width':'initial'}\n",
        "FRUITS_VEGGIES = widgets.IntSlider(value=5, max=10, style=style, layout=layout, description='Daily intake of fruits or veggies:')\n",
        "DAILY_STRESS = widgets.IntSlider(value=5, max=10, style= style, layout=layout, description='Relative daily stress:')\n",
        "PLACES_VISITED = widgets.IntSlider(value=5, max=10, style= style, layout=layout, description='Number of new places visited:')\n",
        "CORE_CIRCLE = widgets.IntSlider(value=5, max=10, style= style, layout=layout, description='Number of close friends:')\n",
        "SUPPORTING_OTHERS = widgets.IntSlider(value=5, max=10, style= style, layout=layout, description='How many people do you help achieve a better life:')\n",
        "SOCIAL_NETWORK = widgets.IntSlider(value=5, max=10, style= style, layout=layout, description='How many people do you interact with daily:')\n",
        "ACHIEVEMENT = widgets.IntSlider(value=5, max=10, style= style, layout=layout, description='Number of proud achievement:')\n",
        "DONATION = widgets.IntSlider(value=5, max=10, style= style, layout=layout, description='How many times do you donate to charity:')\n",
        "BMI_RANGE = widgets.IntSlider(value=1, min=1, max=2, style= style, layout=layout, description='Are you fit (1) or not fit (2):')\n",
        "TODO_COMPLETED = widgets.IntSlider(value=5, max=10, style= style, layout=layout, description='How many TODOs have you completed:')\n",
        "FLOW = widgets.IntSlider(value=5, max=10, style= style, layout=layout, description='How good is your flow of life:')\n",
        "DAILY_STEPS = widgets.IntSlider(value=5, max=10, style= style, layout=layout, description='Amount of steps taken daily:')\n",
        "LIVE_VISION = widgets.IntSlider(value=5, max=10, style= style, layout=layout, description='How good is your eyesight:')\n",
        "SLEEP_HOURS = widgets.IntSlider(value=5, max=10, style= style, layout=layout, description='How much sleep do you get:')\n",
        "LOST_VACATION = widgets.IntSlider(value=5, max=10, style= style, layout=layout, description='How many days of vacation do you lose:')\n",
        "DAILY_SHOUTING = widgets.IntSlider(value=5, max=10, style= style, layout=layout, description='How often do you shout or sulk:')\n",
        "SUFFICIENT_INCOME = widgets.IntSlider(value=1, min=1, max=2, style= style, layout=layout, description='Do you/your family have sufficient income (1=No; 2=Yes):')\n",
        "PERSONAL_AWARDS = widgets.IntSlider(value=5, max=10, style= style, layout=layout, description='How many recognition (awards) do you have:')\n",
        "TIME_FOR_PASSION = widgets.IntSlider(value=5, max=10, style= style, layout=layout, description='How much time do you have for your passion:')\n",
        "WEEKLY_MEDITATION = widgets.IntSlider(value=5, max=10, style= style, layout=layout, description='Weekly, how many times do you reflect on yourself:')\n",
        "\n",
        "display(FRUITS_VEGGIES,DAILY_STRESS,PLACES_VISITED,CORE_CIRCLE,SUPPORTING_OTHERS,SOCIAL_NETWORK,ACHIEVEMENT,DONATION,BMI_RANGE,TODO_COMPLETED,FLOW,DAILY_STEPS,LIVE_VISION,SLEEP_HOURS,LOST_VACATION,DAILY_SHOUTING,SUFFICIENT_INCOME,PERSONAL_AWARDS,TIME_FOR_PASSION,WEEKLY_MEDITATION)"
      ],
      "execution_count": null,
      "outputs": [
        {
          "output_type": "display_data",
          "data": {
            "application/vnd.jupyter.widget-view+json": {
              "model_id": "28377800f87345d3b76d29bd32fa71a6",
              "version_minor": 0,
              "version_major": 2
            },
            "text/plain": [
              "IntSlider(value=5, description='Daily intake of fruits or veggies:', layout=Layout(width='500px'), max=10, sty…"
            ]
          },
          "metadata": {}
        },
        {
          "output_type": "display_data",
          "data": {
            "application/vnd.jupyter.widget-view+json": {
              "model_id": "e979ab35a7c34557817111160938b8f0",
              "version_minor": 0,
              "version_major": 2
            },
            "text/plain": [
              "IntSlider(value=5, description='Relative daily stress:', layout=Layout(width='500px'), max=10, style=SliderSty…"
            ]
          },
          "metadata": {}
        },
        {
          "output_type": "display_data",
          "data": {
            "application/vnd.jupyter.widget-view+json": {
              "model_id": "01d085ca4b98406897f7cc5e77f956f0",
              "version_minor": 0,
              "version_major": 2
            },
            "text/plain": [
              "IntSlider(value=5, description='Number of new places visited:', layout=Layout(width='500px'), max=10, style=Sl…"
            ]
          },
          "metadata": {}
        },
        {
          "output_type": "display_data",
          "data": {
            "application/vnd.jupyter.widget-view+json": {
              "model_id": "608ab55a55434de8a7bbc5a7513ee03a",
              "version_minor": 0,
              "version_major": 2
            },
            "text/plain": [
              "IntSlider(value=5, description='Number of close friends:', layout=Layout(width='500px'), max=10, style=SliderS…"
            ]
          },
          "metadata": {}
        },
        {
          "output_type": "display_data",
          "data": {
            "application/vnd.jupyter.widget-view+json": {
              "model_id": "a9e69999bbd74856ac118990c3a9f29d",
              "version_minor": 0,
              "version_major": 2
            },
            "text/plain": [
              "IntSlider(value=5, description='How many people do you help achieve a better life:', layout=Layout(width='500p…"
            ]
          },
          "metadata": {}
        },
        {
          "output_type": "display_data",
          "data": {
            "application/vnd.jupyter.widget-view+json": {
              "model_id": "e9d935d944884ffcbc953471f5745ca0",
              "version_minor": 0,
              "version_major": 2
            },
            "text/plain": [
              "IntSlider(value=5, description='How many people do you interact with daily:', layout=Layout(width='500px'), ma…"
            ]
          },
          "metadata": {}
        },
        {
          "output_type": "display_data",
          "data": {
            "application/vnd.jupyter.widget-view+json": {
              "model_id": "ff173ff17e8748c9bfe4192d2615c98c",
              "version_minor": 0,
              "version_major": 2
            },
            "text/plain": [
              "IntSlider(value=5, description='Number of proud achievement:', layout=Layout(width='500px'), max=10, style=Sli…"
            ]
          },
          "metadata": {}
        },
        {
          "output_type": "display_data",
          "data": {
            "application/vnd.jupyter.widget-view+json": {
              "model_id": "54d1f620d37945a98eff2a23f555784d",
              "version_minor": 0,
              "version_major": 2
            },
            "text/plain": [
              "IntSlider(value=5, description='How many times do you donate to charity:', layout=Layout(width='500px'), max=1…"
            ]
          },
          "metadata": {}
        },
        {
          "output_type": "display_data",
          "data": {
            "application/vnd.jupyter.widget-view+json": {
              "model_id": "004eb5e1c7a44de79401b6f568ee5cc0",
              "version_minor": 0,
              "version_major": 2
            },
            "text/plain": [
              "IntSlider(value=1, description='Are you fit (1) or not fit (2):', layout=Layout(width='500px'), max=2, min=1, …"
            ]
          },
          "metadata": {}
        },
        {
          "output_type": "display_data",
          "data": {
            "application/vnd.jupyter.widget-view+json": {
              "model_id": "cfb2b8ec7d714950a49a9793b2e7fc9c",
              "version_minor": 0,
              "version_major": 2
            },
            "text/plain": [
              "IntSlider(value=5, description='How many TODOs have you completed:', layout=Layout(width='500px'), max=10, sty…"
            ]
          },
          "metadata": {}
        },
        {
          "output_type": "display_data",
          "data": {
            "application/vnd.jupyter.widget-view+json": {
              "model_id": "d96b2a4de6104d1cb03d590553160fef",
              "version_minor": 0,
              "version_major": 2
            },
            "text/plain": [
              "IntSlider(value=5, description='How good is your flow of life:', layout=Layout(width='500px'), max=10, style=S…"
            ]
          },
          "metadata": {}
        },
        {
          "output_type": "display_data",
          "data": {
            "application/vnd.jupyter.widget-view+json": {
              "model_id": "7604da90157f44edaf35f6d630071352",
              "version_minor": 0,
              "version_major": 2
            },
            "text/plain": [
              "IntSlider(value=5, description='Amount of steps taken daily:', layout=Layout(width='500px'), max=10, style=Sli…"
            ]
          },
          "metadata": {}
        },
        {
          "output_type": "display_data",
          "data": {
            "application/vnd.jupyter.widget-view+json": {
              "model_id": "6b51cf368b624db288dc4abe1c3005ef",
              "version_minor": 0,
              "version_major": 2
            },
            "text/plain": [
              "IntSlider(value=5, description='How good is your eyesight:', layout=Layout(width='500px'), max=10, style=Slide…"
            ]
          },
          "metadata": {}
        },
        {
          "output_type": "display_data",
          "data": {
            "application/vnd.jupyter.widget-view+json": {
              "model_id": "537ce1d00ac3478e9483e51275dd72f3",
              "version_minor": 0,
              "version_major": 2
            },
            "text/plain": [
              "IntSlider(value=5, description='How much sleep do you get:', layout=Layout(width='500px'), max=10, style=Slide…"
            ]
          },
          "metadata": {}
        },
        {
          "output_type": "display_data",
          "data": {
            "application/vnd.jupyter.widget-view+json": {
              "model_id": "7f24b0a6c1814283ae5057c578bd0537",
              "version_minor": 0,
              "version_major": 2
            },
            "text/plain": [
              "IntSlider(value=5, description='How many days of vacation do you lose:', layout=Layout(width='500px'), max=10,…"
            ]
          },
          "metadata": {}
        },
        {
          "output_type": "display_data",
          "data": {
            "application/vnd.jupyter.widget-view+json": {
              "model_id": "dcb1eaaf60174f728b02bcd53010f7c1",
              "version_minor": 0,
              "version_major": 2
            },
            "text/plain": [
              "IntSlider(value=5, description='How often do you shout or sulk:', layout=Layout(width='500px'), max=10, style=…"
            ]
          },
          "metadata": {}
        },
        {
          "output_type": "display_data",
          "data": {
            "application/vnd.jupyter.widget-view+json": {
              "model_id": "817156c965c64f2db643a59daae31926",
              "version_minor": 0,
              "version_major": 2
            },
            "text/plain": [
              "IntSlider(value=1, description='Do you/your family have sufficient income (1=No; 2=Yes):', layout=Layout(width…"
            ]
          },
          "metadata": {}
        },
        {
          "output_type": "display_data",
          "data": {
            "application/vnd.jupyter.widget-view+json": {
              "model_id": "e7f8e3d2b2644234bc65175566c871f7",
              "version_minor": 0,
              "version_major": 2
            },
            "text/plain": [
              "IntSlider(value=5, description='How many recognition (awards) do you have:', layout=Layout(width='500px'), max…"
            ]
          },
          "metadata": {}
        },
        {
          "output_type": "display_data",
          "data": {
            "application/vnd.jupyter.widget-view+json": {
              "model_id": "4c58bb3b1d014e34962fa11676247a06",
              "version_minor": 0,
              "version_major": 2
            },
            "text/plain": [
              "IntSlider(value=5, description='How much time do you have for your passion:', layout=Layout(width='500px'), ma…"
            ]
          },
          "metadata": {}
        },
        {
          "output_type": "display_data",
          "data": {
            "application/vnd.jupyter.widget-view+json": {
              "model_id": "83019a3862f34aa2a5a77e61012aea60",
              "version_minor": 0,
              "version_major": 2
            },
            "text/plain": [
              "IntSlider(value=5, description='Weekly, how many times do you reflect on yourself:', layout=Layout(width='500p…"
            ]
          },
          "metadata": {}
        }
      ]
    },
    {
      "cell_type": "markdown",
      "metadata": {
        "id": "BRUl31xXP1JW"
      },
      "source": [
        "Click run to view your score"
      ]
    },
    {
      "cell_type": "code",
      "metadata": {
        "id": "boWop88Xw2I2",
        "colab": {
          "base_uri": "https://localhost:8080/"
        },
        "outputId": "cdf6e5a1-85e2-4821-a80b-350ea72faeaf"
      },
      "source": [
        "def improve_wellbeing():\n",
        "  if sum([FRUITS_VEGGIES.value,DAILY_STRESS.value,PLACES_VISITED.value,CORE_CIRCLE.value,SUPPORTING_OTHERS.value,SOCIAL_NETWORK.value,ACHIEVEMENT.value,DONATION.value,BMI_RANGE.value,TODO_COMPLETED.value,FLOW.value,DAILY_STEPS.value,LIVE_VISION.value,SLEEP_HOURS.value,LOST_VACATION.value,DAILY_SHOUTING.value,SUFFICIENT_INCOME.value,PERSONAL_AWARDS.value,TIME_FOR_PASSION.value,WEEKLY_MEDITATION.value]) == 92 and FRUITS_VEGGIES.value == 5 and DAILY_STRESS.value == 5:\n",
        "    print(color.BOLD + \"Welcome To Work/School Life Balance predictor, please fill the survey on top.\" + color.END)\n",
        "  else:\n",
        "    s_or_a = input(\"Are you a student or an adult?: \").lower()\n",
        "    if \"stu\" in s_or_a: s_or_a = \"School\"\n",
        "    elif \"adu\" in s_or_a: s_or_a = \"Work\"\n",
        "\n",
        "    initial = list(df.iloc[:,1:21].values)\n",
        "    initial.append(np.array([FRUITS_VEGGIES.value,DAILY_STRESS.value,PLACES_VISITED.value,CORE_CIRCLE.value,SUPPORTING_OTHERS.value,SOCIAL_NETWORK.value,ACHIEVEMENT.value,DONATION.value,BMI_RANGE.value,TODO_COMPLETED.value,FLOW.value,DAILY_STEPS.value,LIVE_VISION.value,SLEEP_HOURS.value,LOST_VACATION.value,DAILY_SHOUTING.value,SUFFICIENT_INCOME.value,PERSONAL_AWARDS.value,TIME_FOR_PASSION.value,WEEKLY_MEDITATION.value]))\n",
        "    pred_array = sc.fit_transform(initial)\n",
        "    prediction = model.predict(pred_array)[-1]\n",
        "\n",
        "    print(f\"\\nThe {s_or_a}-Life Balance Score is divided into 3 categories:\\n  a poor score is below 550, a good score is above 640, an excellent score is above 720.\")\n",
        "    print(f\"\\nYour {s_or_a} life balance score is {str(prediction)[1:-1]}\\n\\nHere are some ways that you can improve your wellbeing:\")\n",
        "\n",
        "    if FRUITS_VEGGIES.value <=4: print(\"  - Your FRUITS_VEGGIES is lower than expected, increasing it may increase your work life balance score\")\n",
        "    if DAILY_STRESS.value >=6: print(\"  - Your DAILY_STRESS is lower than expected, take some time to meditate, or take a deep breath in when you are stressed\")\n",
        "    if PLACES_VISITED.value <=4: print(\"  - Your PLACES_VISITED is lower than expected, explore some fascinating places nearby with a mask\")\n",
        "    if CORE_CIRCLE.value <= 0: print(\"  - Your CORE_CIRCLE is lower than expected, find a partner to share your thoughts and feelings\")\n",
        "    if SUPPORTING_OTHERS.value <=3: print(\"  - Your SUPPORTING_OTHERS is lower than expected, be more compassionate and help others more often\")\n",
        "    if SOCIAL_NETWORK.value <=5: print(\"  - Your SOCIAL_NETWORK is lower than expected, interacting with others may increase it\")\n",
        "    if ACHIEVEMENT.value <=4: print(\"  - Your ACHIEVEMENT is lower than expected, be more grateful in what you already have can improve your mindset on it\")\n",
        "    if DONATION.value <=4: print(\"  - Your DONATION is lower than expected, no matter how small, a gift from your heart is always priceless\")\n",
        "    if BMI_RANGE.value == 2: print(\"  - Your fitness level is not adequate, exercise more often and stand up in break time\")\n",
        "    if TODO_COMPLETED.value <=4: print(\"  - Your TODO_COMPLETED is lower than expected, manage your time properly and have better self-control\")\n",
        "    if FLOW.value <=4: print(\"  - Your life FLOW is lower than expected, altering your work and life sequence may help\")\n",
        "    if DAILY_STEPS.value <=4: print(\"  - Your DAILY_STEPS is lower than expected, move around once in a while to stretch\")\n",
        "    if LIVE_VISION.value <=4: print(\"  - Your LIVE_VISION is lower than expected, decrease your screen time and rest your eyes often\")\n",
        "    if SLEEP_HOURS.value <=6: print(\"  - Your SLEEP_HOURS is lower than expected, improving time management & listening to lofi music before bed can increase it\")\n",
        "    if LOST_VACATION.value >=6: print(\"  - Your LOST_VACATION is higher than expected, wait till the pandemic is over\")\n",
        "    if DAILY_SHOUTING.value >=5: print(\"  - Your DAILY_SHOUTING_SULKING is higher than expected, manage your temper and exhale when you are about to burst\")\n",
        "    if SUFFICIENT_INCOME.value == 1: print(f\"  - You/Your family is destitute, retraining or finding other jobs may help\")\n",
        "    if PERSONAL_AWARDS.value <=5: print(\"  - Your PERSONAL_AWARDS is lower than expected, joining more competitions or reaching your goals can help increase it\")\n",
        "    if TIME_FOR_PASSION.value <=3: print(\"  - Your TIME_FOR_PASSION is lower than expected, find a job that suits your passion or have breaks to do your passion can help\")\n",
        "    if WEEKLY_MEDITATION.value <=4: print(\"  - Your SELF_REFLECTION is lower than expected, take some time to reflect yourself, maybe in the shower or before you sleep\")\n",
        "    print(\"\\nThat's the prediction of your score, you can view the result of the neural network by scrolling up!\")\n",
        "improve_wellbeing()"
      ],
      "execution_count": null,
      "outputs": [
        {
          "output_type": "stream",
          "name": "stdout",
          "text": [
            "Are you a student or an adult?: student\n",
            "\n",
            "The School-Life Balance Score is divided into 3 categories:\n",
            "  a poor score is below 550, a good score is above 640, an excellent score is above 720.\n",
            "\n",
            "Your School life balance score is 661.749\n",
            "\n",
            "Here are some ways that you can improve your wellbeing:\n",
            "  - Your SOCIAL_NETWORK is lower than expected, interacting with others may increase it\n",
            "  - Your SLEEP_HOURS is lower than expected, improving time management & listening to lofi music before bed can increase it\n",
            "  - Your DAILY_SHOUTING_SULKING is higher than expected, manage your temper and exhale when you are about to burst\n",
            "  - You/Your family is destitute, retraining or finding other jobs may help\n",
            "  - Your PERSONAL_AWARDS is lower than expected, joining more competitions or reaching your goals can help increase it\n",
            "\n",
            "That's the prediction of your score, you can view the result of the neural network by scrolling up!\n"
          ]
        }
      ]
    }
  ]
}
