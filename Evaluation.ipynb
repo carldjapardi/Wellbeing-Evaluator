{
 "cells": [
  {
   "cell_type": "code",
   "execution_count": 2,
   "id": "b9078a66-da59-4f9c-a7d2-285645646f93",
   "metadata": {},
   "outputs": [
    {
     "name": "stdout",
     "output_type": "stream",
     "text": [
      "\u001b[31mERROR: Could not find a version that satisfies the requirement tensorflow_macos\u001b[0m\n",
      "\u001b[31mERROR: No matching distribution found for tensorflow_macos\u001b[0m\n"
     ]
    }
   ],
   "source": [
    "!pip install tensorflow_macos"
   ]
  },
  {
   "cell_type": "code",
   "execution_count": 2,
   "id": "4f0a07aa-52c5-4f10-8eea-e1eae7ab0b11",
   "metadata": {},
   "outputs": [],
   "source": [
    "import pandas as pd\n",
    "import numpy as np\n",
    "from sklearn.linear_model import LinearRegression\n",
    "import matplotlib.pyplot as plt"
   ]
  },
  {
   "cell_type": "code",
   "execution_count": 3,
   "id": "6599dfd2-2a4a-42ab-a993-688048e5ab16",
   "metadata": {},
   "outputs": [
    {
     "name": "stdout",
     "output_type": "stream",
     "text": [
      "<class 'pandas.core.frame.DataFrame'>\n",
      "RangeIndex: 32 entries, 0 to 31\n",
      "Data columns (total 13 columns):\n",
      " #   Column                                                                          Non-Null Count  Dtype  \n",
      "---  ------                                                                          --------------  -----  \n",
      " 0   Timestamp                                                                       32 non-null     object \n",
      " 1   Email address                                                                   32 non-null     object \n",
      " 2   How much free time do you have? (in hours)                                      32 non-null     int64  \n",
      " 3   How insecure are you? (physical features, mental personality)                   32 non-null     int64  \n",
      " 4   Average Sleep Time                                                              32 non-null     float64\n",
      " 5   Relative stress daily (0 to 10)                                                 32 non-null     int64  \n",
      " 6   Number of close friends you have ( friends who you are often in contact with )  32 non-null     int64  \n",
      " 7   Rate your experience in online class                                            32 non-null     int64  \n",
      " 8   How focused are you during online class? (interest in class)                    32 non-null     int64  \n",
      " 9   Amount of work and task (HW, Semester Assignment, Projects, etc)                32 non-null     int64  \n",
      " 10  How healthy is your food?                                                       32 non-null     int64  \n",
      " 11  How would rate your overall welfare?                                            32 non-null     int64  \n",
      " 12  Average Screen Time                                                             32 non-null     int64  \n",
      "dtypes: float64(1), int64(10), object(2)\n",
      "memory usage: 3.4+ KB\n"
     ]
    }
   ],
   "source": [
    "df = pd.read_csv(\"Dataset Numeric的副本.csv\")\n",
    "df.info()"
   ]
  },
  {
   "cell_type": "code",
   "execution_count": 5,
   "id": "1696167e-1db0-4c48-bf1d-829575b26941",
   "metadata": {
    "tags": []
   },
   "outputs": [
    {
     "data": {
      "image/png": "[encoded data removed]",
      "text/plain": [
       "<Figure size 432x288 with 1 Axes>"
      ]
     },
     "metadata": {
      "needs_background": "light"
     },
     "output_type": "display_data"
    }
   ],
   "source": [
    "def single_line(x, y):\n",
    "#     fx = []\n",
    "#     fy = []\n",
    "#     for i in df[x]:\n",
    "#         if i not in fx:\n",
    "#             fx.append(i)\n",
    "#             temp = []\n",
    "#             for idx,j in enumerate(df[y]):\n",
    "#                 if (df[x])[idx] == i:\n",
    "#                     temp.append(j)\n",
    "#             fy.append(np.average(temp))\n",
    "#     fx = sorted(fx)\n",
    "#     fy = sorted(fy)\n",
    "    xy = sorted(list(zip(df[x],df[y])))\n",
    "    d = {}\n",
    "    for i in xy:\n",
    "        if i[0] not in d:\n",
    "            d[i[0]] = []\n",
    "    for j in xy:\n",
    "        if j[0] in d:\n",
    "            d[j[0]].append(j[1])\n",
    "    for k in d:\n",
    "        d[k] = np.average(d[k])\n",
    "    fx, fy = zip(*d.items())\n",
    "\n",
    "    plt.xlabel(x)\n",
    "    plt.ylabel(y)\n",
    "    plt.plot(fx,fy,linestyle=\"-\", marker='o')\n",
    "    \n",
    "    def lin_reg():\n",
    "        model = LinearRegression()\n",
    "        fxa = np.array(fx).reshape(-1,1)\n",
    "        fya = np.array(fy)\n",
    "        model.fit(fxa,fya)\n",
    "        r_squared = model.score(fxa,fya).round(2)\n",
    "        plt.plot(fxa, model.coef_*fxa+model.intercept_, '--', label=f\"r²={r_squared}\")\n",
    "        plt.legend()\n",
    "    lin_reg()\n",
    "    \n",
    "single_line(\"Average Screen Time\",\"Amount of work and task (HW, Semester Assignment, Projects, etc)\")\n"
   ]
  },
  {
   "cell_type": "code",
   "execution_count": 9,
   "id": "7c31a832-b3e1-4049-a0f0-ad235dcdee4e",
   "metadata": {},
   "outputs": [
    {
     "name": "stdout",
     "output_type": "stream",
     "text": [
      "0\n",
      "1\n",
      "2\n",
      "3\n",
      "4\n",
      "5\n",
      "6\n",
      "7\n",
      "8\n",
      "9\n"
     ]
    },
    {
     "data": {
      "text/plain": [
       "{'How much free time do you have? (in hours)': [(1, 1.0),\n",
       "  (2, 5.0),\n",
       "  (3, 4.428571428571429),\n",
       "  (4, 5.375),\n",
       "  (5, 5.75),\n",
       "  (6, 2.8),\n",
       "  (8, 5.0)],\n",
       " 'How insecure are you? (physical features, mental personality)': [(0, 5.5),\n",
       "  (1, 5.5),\n",
       "  (2, 8.166666666666666),\n",
       "  (3, 6.785714285714286),\n",
       "  (4, 8.5),\n",
       "  (5, 6.333333333333333),\n",
       "  (6, 6.9),\n",
       "  (7, 6.5),\n",
       "  (8, 4.833333333333333),\n",
       "  (9, 5.5)],\n",
       " 'Average Sleep Time': [(4.5, 7.2),\n",
       "  (5.5, 7.0),\n",
       "  (6.5, 5.0),\n",
       "  (7.5, 5.428571428571429),\n",
       "  (8.5, 4.0),\n",
       "  (9.5, 2.0)],\n",
       " 'Relative stress daily (0 to 10)': [(1, 4.0),\n",
       "  (2, 7.5),\n",
       "  (3, 6.333333333333333),\n",
       "  (4, 6.0),\n",
       "  (5, 3.857142857142857),\n",
       "  (6, 4.5),\n",
       "  (7, 4.181818181818182),\n",
       "  (8, 5.0),\n",
       "  (9, 6.0),\n",
       "  (10, 5.0)],\n",
       " 'Number of close friends you have ( friends who you are often in contact with )': [(0,\n",
       "   3.5),\n",
       "  (2, 2.5),\n",
       "  (3, 2.5),\n",
       "  (4, 3.0),\n",
       "  (5, 2.2222222222222223),\n",
       "  (6, 3.3333333333333335),\n",
       "  (7, 3.0),\n",
       "  (8, 1.6666666666666667),\n",
       "  (9, 1.0),\n",
       "  (10, 2.0)],\n",
       " 'Rate your experience in online class': [(0, 1.0),\n",
       "  (1, 1.3333333333333333),\n",
       "  (2, 2.0),\n",
       "  (3, 2.9166666666666665),\n",
       "  (4, 3.8)],\n",
       " 'How focused are you during online class? (interest in class)': [(0, 4.5),\n",
       "  (1, 3.1666666666666665),\n",
       "  (2, 3.1666666666666665),\n",
       "  (3, 4.4),\n",
       "  (4, 3.5)],\n",
       " 'Amount of work and task (HW, Semester Assignment, Projects, etc)': [(2,\n",
       "   3.75),\n",
       "  (3, 3.4166666666666665),\n",
       "  (4, 3.4),\n",
       "  (5, 3.0)],\n",
       " 'How healthy is your food?': [(0, 5.0),\n",
       "  (2, 5.25),\n",
       "  (3, 5.769230769230769),\n",
       "  (4, 7.818181818181818),\n",
       "  (5, 6.0)],\n",
       " 'How would rate your overall welfare?': [(3, 8.0),\n",
       "  (4, 13.5),\n",
       "  (5, 11.75),\n",
       "  (6, 11.333333333333334),\n",
       "  (7, 10.5),\n",
       "  (8, 10.75),\n",
       "  (9, 13.0)]}"
      ]
     },
     "execution_count": 9,
     "metadata": {},
     "output_type": "execute_result"
    }
   ],
   "source": [
    "def max_corr(df):\n",
    "    dictionary = {}\n",
    "    df = pd.read_csv(df)\n",
    "    for i in df:\n",
    "        if df[i].dtypes == 'object':\n",
    "            del df[i]\n",
    "    #df.iloc[:,0].to_list()\n",
    "    count = 0\n",
    "    for idj, i in enumerate(df):\n",
    "        fx = []\n",
    "        fy = []\n",
    "        for j in df[i]:\n",
    "            if j not in fx:\n",
    "                fx.append(j)\n",
    "                temp = []\n",
    "                for idx,k in enumerate(df.iloc[:,idj+1]):\n",
    "                    if (df[i])[idx] == j:\n",
    "                        temp.append(k)\n",
    "                fy.append(np.average(temp))\n",
    "        #key, value = list(zip(*sorted(list(zip(fx,fy)))))\n",
    "        dictionary[i] = sorted(list(zip(fx,fy)))\n",
    "        print(idj)\n",
    "        if idj == 9:\n",
    "            break\n",
    "    return dictionary\n",
    "\n",
    "#     model = LinearRegression()\n",
    "#     fx = np.array(fx).reshape(-1,1)\n",
    "#     fy = np.array(fy)\n",
    "#     model.fit(fx,fy)\n",
    "#     r_squared = model.score(fx,fy)\n",
    "#     return r_squared\n",
    "max_corr(\"Dataset Numeric的副本.csv\")"
   ]
  },
  {
   "cell_type": "code",
   "execution_count": null,
   "id": "78e7fbfa-b3d0-4d7f-adc3-f99da7c83d95",
   "metadata": {},
   "outputs": [],
   "source": [
    "-------------------------------------------Break-----------------------------------------"
   ]
  },
  {
   "cell_type": "code",
   "execution_count": 75,
   "id": "33170374-0809-4d5d-99fe-92e52ab00dba",
   "metadata": {},
   "outputs": [
    {
     "name": "stdout",
     "output_type": "stream",
     "text": [
      "1.0\n"
     ]
    }
   ],
   "source": [
    "#multi variate linear regression\n",
    "y = df[\"DAILY_STRESS\"]\n",
    "x = df[\"SOCIAL_NETWORK\"]\n",
    "yn = []\n",
    "xn = []\n",
    "for idx,i in enumerate(x):\n",
    "    if i not in xn:\n",
    "        xn.append(i)\n",
    "        temp = []\n",
    "        for j in y:\n",
    "            if x[idx] == i:\n",
    "                temp.append(j)\n",
    "        yn.append(temp)\n",
    "xna = np.array(xn).reshape(-1,1)\n",
    "yna = np.array(yn)\n",
    "model = LinearRegression()\n",
    "model.fit(xna,yna)\n",
    "print(model.score(xna,yna))\n",
    "#plt.plot(xna, np.sum((model.coef_ * xna),axis=1) + model.intercept_)"
   ]
  },
  {
   "cell_type": "code",
   "execution_count": 29,
   "id": "e12af21f-a1fc-4b8e-8a82-ee86de6671a2",
   "metadata": {},
   "outputs": [],
   "source": [
    "#multi line plot\n",
    "def single_line(x, y):\n",
    "    xy = sorted(list(zip(df[x],df[y])))\n",
    "    d = {}\n",
    "    for i in xy:\n",
    "        if i[0] not in d:\n",
    "            d[i[0]] = []\n",
    "    for j in xy:\n",
    "        if j[0] in d:\n",
    "            d[j[0]].append(j[1])\n",
    "    for k in d:\n",
    "        d[k] = sum(d[k])/len(d[k])\n",
    "    #return d\n",
    "    fx = list(d.keys())\n",
    "    fy = list(d.values())\n",
    "    plt.xlabel(x)\n",
    "    plt.ylabel(y)\n",
    "    plt.plot(fx,fy)\n",
    "#visualize(\"DAILY_SHOUTING\",\"DAILY_STRESS\")\n",
    "\n",
    "\n",
    "#multi_line(\"DAILY_SHOUTING\",\"DAILY_STRESS\", \"SOCIAL_NETWORK\", \"SLEEP_HOURS\")"
   ]
  },
  {
   "cell_type": "code",
   "execution_count": null,
   "id": "ddeba079-1669-4443-a1fa-d88bedc69019",
   "metadata": {},
   "outputs": [],
   "source": []
  }
 ],
 "metadata": {
  "kernelspec": {
   "display_name": "Python 3",
   "language": "python",
   "name": "python3"
  },
  "language_info": {
   "codemirror_mode": {
    "name": "ipython",
    "version": 3
   },
   "file_extension": ".py",
   "mimetype": "text/x-python",
   "name": "python",
   "nbconvert_exporter": "python",
   "pygments_lexer": "ipython3",
   "version": "3.8.8"
  }
 },
 "nbformat": 4,
 "nbformat_minor": 5
}
